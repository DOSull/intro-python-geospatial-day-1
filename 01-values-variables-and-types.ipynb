{
 "cells": [
  {
   "cell_type": "markdown",
   "id": "f521a13d",
   "metadata": {},
   "source": [
    "# Values, variables, and types\n",
    "This notebook introduces some fundamental concepts in the Python programming language. It should also get you accustomed to using the Jupyter notebook format."
   ]
  },
  {
   "cell_type": "markdown",
   "id": "698e62df",
   "metadata": {},
   "source": [
    "## Hello world!\n",
    "It's traditional when learning to program to first learn how to get the computer to 'say' \"Hello world\". Here's what that program looks like in Python."
   ]
  },
  {
   "cell_type": "code",
   "execution_count": null,
   "id": "9f674a9e",
   "metadata": {},
   "outputs": [],
   "source": [
    "print(\"Hello world!\")"
   ]
  },
  {
   "cell_type": "markdown",
   "id": "bf4f84fe",
   "metadata": {},
   "source": [
    "The simplicity of this 'program' should help to convince you that Python is, on the whole, a pretty simple programming language to learn. Here, by contrast, is a typical Hello World program in Java.\n",
    "\n",
    "    class HelloWorld {\n",
    "        public static void main(String[] args) {\n",
    "            System.out.println(\"Hello world!\"); \n",
    "        }\n",
    "    }"
   ]
  },
  {
   "cell_type": "markdown",
   "id": "c32a761b",
   "metadata": {},
   "source": [
    "## Values\n",
    "You don't even need a print statement to get the Python interpreter to respond."
   ]
  },
  {
   "cell_type": "code",
   "execution_count": null,
   "id": "90c95672",
   "metadata": {},
   "outputs": [],
   "source": [
    "36"
   ]
  },
  {
   "cell_type": "code",
   "execution_count": null,
   "id": "0f01a71c",
   "metadata": {},
   "outputs": [],
   "source": [
    "36.0"
   ]
  },
  {
   "cell_type": "markdown",
   "id": "34b9bc8b",
   "metadata": {},
   "source": [
    "In these cases, the Python interpreter is echoing back to you the _value_ of what you've typed. It is instructive to see what happens if you type `Hello world!`"
   ]
  },
  {
   "cell_type": "code",
   "execution_count": null,
   "id": "1283a95a",
   "metadata": {
    "tags": [
     "raises-exception"
    ]
   },
   "outputs": [],
   "source": [
    "Hello world!"
   ]
  },
  {
   "cell_type": "markdown",
   "id": "18b32056",
   "metadata": {},
   "source": [
    "This is an error because text values must be designated by surrounding them with quote marks. Matched single `''` or double quotes `\"\"` are both acceptable."
   ]
  },
  {
   "cell_type": "code",
   "execution_count": null,
   "id": "824535a1",
   "metadata": {},
   "outputs": [],
   "source": [
    "\"Hello world!\""
   ]
  },
  {
   "cell_type": "markdown",
   "id": "6b86cf75",
   "metadata": {},
   "source": [
    "## Simple arithmetic\n",
    "Try each of the _expressions_ below and see what happens."
   ]
  },
  {
   "cell_type": "code",
   "execution_count": null,
   "id": "0866118d",
   "metadata": {},
   "outputs": [],
   "source": [
    "35 + 1"
   ]
  },
  {
   "cell_type": "code",
   "execution_count": null,
   "id": "dcfc5293",
   "metadata": {},
   "outputs": [],
   "source": [
    "42 - 6"
   ]
  },
  {
   "cell_type": "code",
   "execution_count": null,
   "id": "a2072804",
   "metadata": {},
   "outputs": [],
   "source": [
    "4 * 9"
   ]
  },
  {
   "cell_type": "code",
   "execution_count": null,
   "id": "6e07bb1a",
   "metadata": {},
   "outputs": [],
   "source": [
    "72 / 2"
   ]
  },
  {
   "cell_type": "markdown",
   "id": "e5cbc18c",
   "metadata": {},
   "source": [
    "And here's yet another way to make 36."
   ]
  },
  {
   "cell_type": "code",
   "execution_count": null,
   "id": "a18220ec",
   "metadata": {},
   "outputs": [],
   "source": [
    "6 ** 2  # ** is the python symbol for 'raised to the power'"
   ]
  },
  {
   "cell_type": "markdown",
   "id": "35f83d96",
   "metadata": {},
   "source": [
    "In each of these cases the value that results from evaluating the expression is returned. It turns out you can also do some of these arithmetic operations on text."
   ]
  },
  {
   "cell_type": "code",
   "execution_count": null,
   "id": "0958ac01",
   "metadata": {},
   "outputs": [],
   "source": [
    "\"Hello\" + \" world\" + '!'"
   ]
  },
  {
   "cell_type": "markdown",
   "id": "37b8dec2",
   "metadata": {},
   "source": [
    "Or even"
   ]
  },
  {
   "cell_type": "code",
   "execution_count": null,
   "id": "c331955f",
   "metadata": {},
   "outputs": [],
   "source": [
    "\"Hello \" * 2 + \"world\" + \"!\" * 3 "
   ]
  },
  {
   "cell_type": "markdown",
   "id": "cc90f843",
   "metadata": {},
   "source": [
    "Whether or not this makes any sense is another question altogether."
   ]
  },
  {
   "cell_type": "markdown",
   "id": "2cfbd3ff",
   "metadata": {},
   "source": [
    "### A comment on comments"
   ]
  },
  {
   "cell_type": "code",
   "execution_count": null,
   "id": "c652d930",
   "metadata": {},
   "outputs": [],
   "source": [
    "# This is a comment"
   ]
  },
  {
   "cell_type": "markdown",
   "id": "3f74e966",
   "metadata": {},
   "source": [
    "In some of the above I've used *comments* which are denoted by the `#` symbol. The Python interpreter ignores anything on a line after a `#` symbol. These are for your benefit as a human, and are irrelevant to the Python interpreter. This might seem pointless, but it is really useful to add comments to working code (i.e., whether notebooks, scripts, or programs) so that human readers (most likely you 6 months later when you come back to the code) can understand what it is supposed to do. \n",
    "\n",
    "In notebooks we can include extensive explanation in formatted text (such as this cell)."
   ]
  },
  {
   "cell_type": "markdown",
   "id": "9bf2d714",
   "metadata": {},
   "source": [
    "## Variables\n",
    "Always supplying values explicitly as we have been doing so far is not very useful when we want to manipulated large amounts of data. In almost all cases, you will be passing values around in a script or program not as explicit values, but as _variables_. A variable is simply a name to which we have assigned a value. The assignment operator is the `=` sign:"
   ]
  },
  {
   "cell_type": "code",
   "execution_count": null,
   "id": "c76c61da",
   "metadata": {},
   "outputs": [],
   "source": [
    "x = 36"
   ]
  },
  {
   "cell_type": "markdown",
   "id": "75bfde44",
   "metadata": {},
   "source": [
    "By assigning a value to the variable `x` we have done something like this:\n",
    "\n",
    "`x` &rarr; `36`\n",
    "\n",
    "We've created a name that we can pass around which points to the value 36. Let's make some more:"
   ]
  },
  {
   "cell_type": "code",
   "execution_count": null,
   "id": "0c24ecc0",
   "metadata": {},
   "outputs": [],
   "source": [
    "y = 37\n",
    "z = 1\n",
    "greeting = \"Hello world!\""
   ]
  },
  {
   "cell_type": "markdown",
   "id": "9267bf6b",
   "metadata": {},
   "source": [
    "And now we can manipulate these just as we did values"
   ]
  },
  {
   "cell_type": "code",
   "execution_count": null,
   "id": "fee4a733",
   "metadata": {},
   "outputs": [],
   "source": [
    "print(y - z)"
   ]
  },
  {
   "cell_type": "code",
   "execution_count": null,
   "id": "dee20ff5",
   "metadata": {},
   "outputs": [],
   "source": [
    "print(greeting)"
   ]
  },
  {
   "cell_type": "markdown",
   "id": "37d25a55",
   "metadata": {},
   "source": [
    "### Variable names\n",
    "You can pretty much call a variable anything you want with a few restrictions, which will generally produce errors.\n",
    "\n",
    "Variable names can't start with a number"
   ]
  },
  {
   "cell_type": "code",
   "execution_count": null,
   "id": "96f299b0",
   "metadata": {
    "tags": [
     "raises-exception"
    ]
   },
   "outputs": [],
   "source": [
    "99redballoons = \"weird song\""
   ]
  },
  {
   "cell_type": "markdown",
   "id": "95dcf520",
   "metadata": {},
   "source": [
    "Variable names can't have any spaces"
   ]
  },
  {
   "cell_type": "code",
   "execution_count": null,
   "id": "9adc951c",
   "metadata": {
    "tags": [
     "raises-exception"
    ]
   },
   "outputs": [],
   "source": [
    "my variable = \"twenty seven\""
   ]
  },
  {
   "cell_type": "markdown",
   "id": "b90494c3",
   "metadata": {},
   "source": [
    "Instead of spaces, it is common in Python to use underscores `_`"
   ]
  },
  {
   "cell_type": "code",
   "execution_count": null,
   "id": "cd5281fd",
   "metadata": {},
   "outputs": [],
   "source": [
    "this_works = \"twenty seven\""
   ]
  },
  {
   "cell_type": "markdown",
   "id": "f811401a",
   "metadata": {},
   "source": [
    "\n",
    "There are also a bunch of 'reserved words' which we can't use. These are words that have a specific meaning in the Python programming language so calling a variable by them leads to confusion and errors. Generally they get coloured differently in any Python editing environment so you will know if you are doing this. Some reserved words are:\n",
    "\n",
    "```python\n",
    "and      as       assert   break    class\n",
    "continue def      del      elif     else\n",
    "except   False    finally  for      from\n",
    "global   if       import   in       is\n",
    "lambda   None     nonlocal not      or\n",
    "pass     raise    return   True     try\n",
    "while    with     yield\n",
    "```"
   ]
  },
  {
   "cell_type": "markdown",
   "id": "7e3a64d4",
   "metadata": {},
   "source": [
    "Try using one of these as a variable name and see what happens. For example:"
   ]
  },
  {
   "cell_type": "code",
   "execution_count": null,
   "id": "75cc246c",
   "metadata": {
    "tags": [
     "raises-exception"
    ]
   },
   "outputs": [],
   "source": [
    "from = 'whence I came'"
   ]
  },
  {
   "cell_type": "markdown",
   "id": "a405ddd3",
   "metadata": {},
   "source": [
    "You can use uppercase letters in variable names, but it is conventional in Python not to do so (there is a reason for this which we'll get to eventually)."
   ]
  },
  {
   "cell_type": "markdown",
   "id": "9a04dbfc",
   "metadata": {},
   "source": [
    "## Values and types\n",
    "Everything in Python has a *value* and a *type*. The value is the content of the data, like the numeric content **36** or the text content **Hello World!** But these two values are of different _types_, one is a number, the other is some text. Python has some specific types which it is important to know about."
   ]
  },
  {
   "cell_type": "code",
   "execution_count": null,
   "id": "16bc9706",
   "metadata": {},
   "outputs": [],
   "source": [
    "type(36)"
   ]
  },
  {
   "cell_type": "code",
   "execution_count": null,
   "id": "11dfe618",
   "metadata": {},
   "outputs": [],
   "source": [
    "type(36.0)"
   ]
  },
  {
   "cell_type": "code",
   "execution_count": null,
   "id": "e7d90487",
   "metadata": {},
   "outputs": [],
   "source": [
    "type(\"36\")"
   ]
  },
  {
   "cell_type": "markdown",
   "id": "19bcf12b",
   "metadata": {},
   "source": [
    "Here three pieces of data which humans might consider the same are considered different because they are different types, `int`, `float`, and `str`.\n",
    "\n",
    "+ an `int` is an *integer*, i.e., a numeric value with no decimal part\n",
    "+ a `float` is a *floating point number*, i.e., a numeric value that has a decimal part\n",
    "+ a `str` is a *string* denoting a sequence of characters\n",
    "\n",
    "Strings are distinguished from numeric types by using quote marks. It is worth emphasising that we can use either single `''` or double `\"\"` quote marks. As far as Python is concerned `'spam'` and `\"spam\"` are the same value:"
   ]
  },
  {
   "cell_type": "code",
   "execution_count": null,
   "id": "bd82a6c4",
   "metadata": {},
   "outputs": [],
   "source": [
    "\"spam\" == 'spam'"
   ]
  },
  {
   "cell_type": "markdown",
   "id": "d5bc65ed",
   "metadata": {},
   "source": [
    "We'll get to what `==` means later today. For now it's sufficient to understand that it is testing the equality of the values on each side of the `==`. \n",
    "\n",
    "Being able to use both kinds of quote marks means we can include them in a string, which is useful, so for example we can do"
   ]
  },
  {
   "cell_type": "code",
   "execution_count": null,
   "id": "e52101ee",
   "metadata": {},
   "outputs": [],
   "source": [
    "print('\"Hello, World!\"')"
   ]
  },
  {
   "cell_type": "markdown",
   "id": "2a5ed738",
   "metadata": {},
   "source": [
    "When you test the type of a variable, it retrieves the associated value and tells you the type of the value"
   ]
  },
  {
   "cell_type": "code",
   "execution_count": null,
   "id": "f8831119",
   "metadata": {},
   "outputs": [],
   "source": [
    "type(x), type(y), type(greeting)"
   ]
  },
  {
   "cell_type": "markdown",
   "id": "b483427a",
   "metadata": {},
   "source": [
    "The same is true of an expression. Python evaluates the expression and tells you the type of the resulting value."
   ]
  },
  {
   "cell_type": "code",
   "execution_count": null,
   "id": "8ba0cf43",
   "metadata": {},
   "outputs": [],
   "source": [
    "type(37 - 1)"
   ]
  },
  {
   "cell_type": "markdown",
   "id": "2c74ee18",
   "metadata": {},
   "source": [
    "## Some more complicated types\n",
    "Python also has _complex numbers_, which is nice if you plan on doing a lot of mathematics with it..."
   ]
  },
  {
   "cell_type": "code",
   "execution_count": null,
   "id": "cec5a512",
   "metadata": {},
   "outputs": [],
   "source": [
    "(3 + 1j) * (2 - 3j)"
   ]
  },
  {
   "cell_type": "markdown",
   "id": "fe4e5563",
   "metadata": {},
   "source": [
    "But more relevant for our purposes are a number of _collection_ types. We'll learn more about them in a little bit. For now it's good to know of their existence. First up is a _list_, a collection of values, separated by commas, and enclosed in square brackets: "
   ]
  },
  {
   "cell_type": "code",
   "execution_count": null,
   "id": "f08877c9",
   "metadata": {},
   "outputs": [],
   "source": [
    "type( [1, 2, 3, 4] )"
   ]
  },
  {
   "cell_type": "markdown",
   "id": "b1502add",
   "metadata": {},
   "source": [
    "A similar (but actually different) collection is a _tuple_, which is denoted by being enclosed in round brackets:"
   ]
  },
  {
   "cell_type": "code",
   "execution_count": null,
   "id": "c551619a",
   "metadata": {},
   "outputs": [],
   "source": [
    "type( (\"a\", \"b\", \"c\") )  # this is a tuple"
   ]
  },
  {
   "cell_type": "markdown",
   "id": "12facbca",
   "metadata": {},
   "source": [
    "And, finally, a _dictionary_ is a collection of _key_-_value_ pairs:"
   ]
  },
  {
   "cell_type": "code",
   "execution_count": null,
   "id": "0cf49b9b",
   "metadata": {},
   "outputs": [],
   "source": [
    "type( {\"a\" : 1, \"b\": 2, \"c\": 3} )"
   ]
  },
  {
   "cell_type": "markdown",
   "id": "865ce65a",
   "metadata": {},
   "source": [
    "### Key take aways\n",
    "Items of data in Python are distinguished by their _type_. As we will see later, the type of a value may affect the operations you can perform on it, how it is printed, and so on. You can test the type of a value using the `type()` function."
   ]
  }
 ],
 "metadata": {
  "kernelspec": {
   "display_name": "intro-python-1",
   "language": "python",
   "name": "python3"
  },
  "language_info": {
   "codemirror_mode": {
    "name": "ipython",
    "version": 3
   },
   "file_extension": ".py",
   "mimetype": "text/x-python",
   "name": "python",
   "nbconvert_exporter": "python",
   "pygments_lexer": "ipython3",
   "version": "3.11.13"
  }
 },
 "nbformat": 4,
 "nbformat_minor": 5
}
