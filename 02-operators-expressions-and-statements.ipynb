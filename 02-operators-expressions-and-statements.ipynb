{
 "cells": [
  {
   "cell_type": "markdown",
   "id": "6a84c393",
   "metadata": {},
   "source": [
    "# Expressions, operators, and statements\n",
    "## Expressions\n",
    "Anything that evaluates to a value is an *expression*. We've already seen some of these. Values on their own are expressions"
   ]
  },
  {
   "cell_type": "code",
   "execution_count": null,
   "id": "f68554c7",
   "metadata": {},
   "outputs": [],
   "source": [
    "53"
   ]
  },
  {
   "cell_type": "markdown",
   "id": "daf340be",
   "metadata": {},
   "source": [
    "A variable that has been assigned a value is an expression, on its own:"
   ]
  },
  {
   "cell_type": "code",
   "execution_count": null,
   "id": "33242ce3",
   "metadata": {},
   "outputs": [],
   "source": [
    "x = 47\n",
    "x"
   ]
  },
  {
   "cell_type": "markdown",
   "id": "c700f05d",
   "metadata": {},
   "source": [
    "and combinations of values, variables and operators (arithmetic or other kinds) are all expressions"
   ]
  },
  {
   "cell_type": "code",
   "execution_count": null,
   "id": "695b5449",
   "metadata": {},
   "outputs": [],
   "source": [
    "x + 4 == 21"
   ]
  },
  {
   "cell_type": "markdown",
   "id": "6eb33535",
   "metadata": {},
   "source": [
    "## Operators\n",
    "The arithmetic symbols in the expressions above are referred to collectively as _operators_. In addition to the familiar `+`, `-`, `*`, and `/` we have `**` for exponentiation, and other less familiar operators, such as `and`, `or`, `==`, `!=`, `>`, `<`, `>=`, `<=`, and so on. \n",
    "\n",
    "Most of these will make more sense when we encounter them in their proper settings. A couple that are useful to know about are _integer division_ `//` and _modulus_ `%` which gives the remainder from a division:"
   ]
  },
  {
   "cell_type": "code",
   "execution_count": null,
   "id": "a2105bbe",
   "metadata": {},
   "outputs": [],
   "source": [
    "7 // 3"
   ]
  },
  {
   "cell_type": "code",
   "execution_count": null,
   "id": "24e6d414",
   "metadata": {},
   "outputs": [],
   "source": [
    "7 % 3"
   ]
  },
  {
   "cell_type": "markdown",
   "id": "c72efda0",
   "metadata": {},
   "source": [
    "\n",
    "For now, just understand that expressions are composed of values and operators chained together in meaningful sequences."
   ]
  },
  {
   "cell_type": "markdown",
   "id": "2562dad9",
   "metadata": {},
   "source": [
    "### Order of evaluation in expressions\n",
    "Like most programming languages, to avoid ambiguity Python has a priority order in which it evaluates operations in an expression.  Anything inside parentheses is evaluated first. Next comes any exponentiation (i.e., raising things to a power), then multiplication, division, addition and subtraction.\n",
    "\n",
    "You may see this order referred to as **PEMDAS** for **P**arenetheses, **E**xponentiation, **M**ultiplication, **D**ivision, **A**ddition, **S**ubtraction, but this isn't particularly helpful to remember, as in other places it is called **BEDMAS** for **B**rackets, and the rest the same but slightly changed!\n",
    "\n",
    "Based on this see if you can figure out, before running them, what the expression below will evaluate to."
   ]
  },
  {
   "cell_type": "code",
   "execution_count": null,
   "id": "0333e1f0",
   "metadata": {},
   "outputs": [],
   "source": [
    "3 + 4 * 5 - 8 / 4"
   ]
  },
  {
   "cell_type": "markdown",
   "id": "33833f45",
   "metadata": {},
   "source": [
    "It's a lot less confusing to put parentheses in to make things clear"
   ]
  },
  {
   "cell_type": "code",
   "execution_count": null,
   "id": "eed20f03",
   "metadata": {},
   "outputs": [],
   "source": [
    "3 + (4 * 5) - (8 / 4)"
   ]
  },
  {
   "cell_type": "markdown",
   "id": "e174100b",
   "metadata": {},
   "source": [
    "To change evaluation order, we can put parentheses in different places"
   ]
  },
  {
   "cell_type": "code",
   "execution_count": null,
   "id": "d00adcc4",
   "metadata": {},
   "outputs": [],
   "source": [
    "(3 + 4) * (5 - 8) / 4"
   ]
  },
  {
   "cell_type": "markdown",
   "id": "c7b58965",
   "metadata": {},
   "source": [
    "Getting these rules wrong can lead to subtle errors in programs that are hard to find, so it makes sense to use brackets to guarantee things happen in the order you want!"
   ]
  },
  {
   "cell_type": "markdown",
   "id": "dc54c04d",
   "metadata": {},
   "source": [
    "## Statements\n",
    "A *statement* is a piece of code that cause something to happen. The two things we've seen so far that do this are assignment statements"
   ]
  },
  {
   "cell_type": "code",
   "execution_count": null,
   "id": "49cc5d58",
   "metadata": {},
   "outputs": [],
   "source": [
    "y = 19"
   ]
  },
  {
   "cell_type": "markdown",
   "id": "d7913df6",
   "metadata": {},
   "source": [
    "and `print()` statements"
   ]
  },
  {
   "cell_type": "code",
   "execution_count": null,
   "id": "b2f2b304",
   "metadata": {},
   "outputs": [],
   "source": [
    "print(\"this is a string, printed by a statement\")"
   ]
  },
  {
   "cell_type": "markdown",
   "id": "f7d2d90d",
   "metadata": {},
   "source": [
    "Note that a statement doesn't necessarily produce an effect that you can see. The statement `y = 19` above assigned the value 19 to the variable name `y`, but we can't tell that anything happened, unless we ask for the value of `y` back again."
   ]
  }
 ],
 "metadata": {
  "kernelspec": {
   "display_name": "intro-python-1",
   "language": "python",
   "name": "python3"
  },
  "language_info": {
   "codemirror_mode": {
    "name": "ipython",
    "version": 3
   },
   "file_extension": ".py",
   "mimetype": "text/x-python",
   "name": "python",
   "nbconvert_exporter": "python",
   "pygments_lexer": "ipython3",
   "version": "3.12.11"
  }
 },
 "nbformat": 4,
 "nbformat_minor": 5
}
