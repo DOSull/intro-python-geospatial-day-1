{
 "cells": [
  {
   "cell_type": "markdown",
   "id": "b4aedec6",
   "metadata": {},
   "source": [
    "# Calling and writing functions\n",
    "The point of any programming language is to get complicated and repetitive things gone. Complicated tasks can usually be broken down into a series of simpler tasks, and programming involves writing small pieces of code to accomplish these simple tasks, then chaining them together to tackle the complicated and repetitive things done.\n",
    "\n",
    "The small pieces of code that do the simple things are known as _functions_. A function is a chunk of code that does one (and usually only one) thing, in a well-defined, (ideally) no surprises way. \n",
    "\n",
    "The best way to get a handle on this idea is to use some of Python's built-in functions. There are a whole bunch of them in the `math` module. To access them we _import_ that module:"
   ]
  },
  {
   "cell_type": "code",
   "execution_count": null,
   "id": "7089a0da",
   "metadata": {},
   "outputs": [],
   "source": [
    "import math"
   ]
  },
  {
   "cell_type": "markdown",
   "id": "3290c613",
   "metadata": {},
   "source": [
    "This gives us access to functions in the `math` _namespace_, which we invoke with `math.` as a prefix. For example, square root:"
   ]
  },
  {
   "cell_type": "code",
   "execution_count": null,
   "id": "882ba4b0",
   "metadata": {},
   "outputs": [],
   "source": [
    "x = 36\n",
    "math.sqrt(x)"
   ]
  },
  {
   "cell_type": "markdown",
   "id": "179a759b",
   "metadata": {},
   "source": [
    "Or the hypoteneuse of a right-angled triangle given the lengths of its two sides:"
   ]
  },
  {
   "cell_type": "code",
   "execution_count": null,
   "id": "630e29eb",
   "metadata": {},
   "outputs": [],
   "source": [
    "math.hypot(3, 4)"
   ]
  },
  {
   "cell_type": "markdown",
   "id": "dad90cd4",
   "metadata": {},
   "source": [
    "Or even more elaborate things like the product of a list of numbers"
   ]
  },
  {
   "cell_type": "code",
   "execution_count": null,
   "id": "bb111d2b",
   "metadata": {},
   "outputs": [],
   "source": [
    "# this will give us 1*2*3*4*5\n",
    "math.prod([1, 2, 3, 4, 5])"
   ]
  },
  {
   "cell_type": "markdown",
   "id": "ea072292",
   "metadata": {},
   "source": [
    "## Function composition\n",
    "There is nothing to stop us combining functions in any way we might need"
   ]
  },
  {
   "cell_type": "code",
   "execution_count": null,
   "id": "824e7ca9",
   "metadata": {},
   "outputs": [],
   "source": [
    "math.sqrt(math.prod([3, 4, 5]))"
   ]
  },
  {
   "cell_type": "code",
   "execution_count": null,
   "id": "324fc747",
   "metadata": {},
   "outputs": [],
   "source": [
    "math.sin(math.radians(45))"
   ]
  },
  {
   "cell_type": "markdown",
   "id": "ab0feedf",
   "metadata": {},
   "source": [
    "## Making _new_ functions\n",
    "But where things really get interesting is making entirely new functions to solve our own programming challenges. Python's various modules (`math` is just one of them) address a very wide range of general programming problems (doing maths, handling text, connecting to websites, reading and writing files, and so on), but by their nature, they can only solve very general problems, not the specific problems that you might face. To do this, we define our own functions. To define a function, we use the `def` keyword, like this:"
   ]
  },
  {
   "cell_type": "code",
   "execution_count": null,
   "id": "534d975b",
   "metadata": {},
   "outputs": [],
   "source": [
    "def cube(x):\n",
    "    result = x * x * x\n",
    "    return result"
   ]
  },
  {
   "cell_type": "markdown",
   "id": "78934b70",
   "metadata": {},
   "source": [
    "This code defines a function called `cube` which will return the cube of the value supplied to it."
   ]
  },
  {
   "cell_type": "code",
   "execution_count": null,
   "id": "f782df8a",
   "metadata": {},
   "outputs": [],
   "source": [
    "cube(2)"
   ]
  },
  {
   "cell_type": "code",
   "execution_count": null,
   "id": "f0fdd881",
   "metadata": {},
   "outputs": [],
   "source": [
    "cube(27)"
   ]
  },
  {
   "cell_type": "markdown",
   "id": "138f0a25",
   "metadata": {},
   "source": [
    "The function definition consists of the function _signature_, in this case `cube(x)` which is how you call the function, its definition, where the work of the function is carried out (`result = x * x * x`), and then a `return` statement which ends the function definition and returns something to the caller. In fact, in this very simple case we can simplify the definition further:"
   ]
  },
  {
   "cell_type": "code",
   "execution_count": null,
   "id": "1d4083a9",
   "metadata": {},
   "outputs": [],
   "source": [
    "# this also calculates the cube\n",
    "# but does it in just one line\n",
    "def cube_2(x):\n",
    "    return x * x * x"
   ]
  },
  {
   "cell_type": "markdown",
   "id": "6cc693c9",
   "metadata": {},
   "source": [
    "There is no need to retain the intermediate value, we can simply evaluate the results `x * x * x` and return it all in one.\n",
    "\n",
    "Wait a minute! There's something interesting going on here... isn't `x` a variable that we defined right at the top of this notebook to have the value 36? Well yes, it is:"
   ]
  },
  {
   "cell_type": "code",
   "execution_count": null,
   "id": "feb5495c",
   "metadata": {},
   "outputs": [],
   "source": [
    "x"
   ]
  },
  {
   "cell_type": "markdown",
   "id": "6f52a01a",
   "metadata": {},
   "source": [
    "So what about `x` in the definition of the `cube` function? Here `x` is an _argument_ of the function, and stands in for _any_ value that might be passed to the function when we call it. The `x` in the definition of `cube` has _local scope_ and only exists in that context. When the function is called with some value, that value is assigned to the local variable `x` _inside the function_, whatever manipulations the function performs are carried out, and a result is passed back to the caller. That local variable `x` then disappears. The `x` inside the definition of `cube` and the `x` out here in the notebook are unrelated.\n",
    "\n",
    "We could even have a function that changes the value of the `x` passed to it, which will make no difference to `x` outside the function scope:"
   ]
  },
  {
   "cell_type": "code",
   "execution_count": null,
   "id": "f3590c3f",
   "metadata": {},
   "outputs": [],
   "source": [
    "def cube_negative(x):\n",
    "  x = -x\n",
    "  return x * x * x"
   ]
  },
  {
   "cell_type": "markdown",
   "id": "59e7241e",
   "metadata": {},
   "source": [
    "As expected this function gives us a different result than before:"
   ]
  },
  {
   "cell_type": "code",
   "execution_count": null,
   "id": "91f458fb",
   "metadata": {},
   "outputs": [],
   "source": [
    "cube_negative(x)"
   ]
  },
  {
   "cell_type": "markdown",
   "id": "626a2719",
   "metadata": {},
   "source": [
    "But the value of `x` outside the function remains unaffected."
   ]
  },
  {
   "cell_type": "code",
   "execution_count": null,
   "id": "3563b571",
   "metadata": {},
   "outputs": [],
   "source": [
    "x"
   ]
  },
  {
   "cell_type": "markdown",
   "id": "9e28cbcf",
   "metadata": {},
   "source": [
    "The `x` inside the function definition really is a completely different variable.\n",
    "\n",
    "Another way to see this is if we have a function with an argument called `y`:"
   ]
  },
  {
   "cell_type": "code",
   "execution_count": null,
   "id": "611479a4",
   "metadata": {},
   "outputs": [],
   "source": [
    "def pointless_function(z):\n",
    "    return z\n",
    "\n",
    "print(pointless_function(7))"
   ]
  },
  {
   "cell_type": "markdown",
   "id": "ac6b60ec",
   "metadata": {},
   "source": [
    "But there is no `z` outside the scope of the function:"
   ]
  },
  {
   "cell_type": "code",
   "execution_count": null,
   "id": "82b28091",
   "metadata": {
    "tags": [
     "raises-exception"
    ]
   },
   "outputs": [],
   "source": [
    "z"
   ]
  },
  {
   "cell_type": "markdown",
   "id": "585e0751",
   "metadata": {},
   "source": [
    "This may all seem rather technical at the moment, and maybe even unnecessarily complicated, but variable scope is an important way that programming languages (not just Python) manage the complexity inherent in building complicated programs with many functions. If every time you used the variable name `x` it was the same variable `x` that you had used in lots of other places, there would be chaos!"
   ]
  },
  {
   "cell_type": "markdown",
   "id": "766857ce",
   "metadata": {},
   "source": [
    "### Function arguments\n",
    "Functions need not have any arguments."
   ]
  },
  {
   "cell_type": "code",
   "execution_count": null,
   "id": "d8d02ac6",
   "metadata": {},
   "outputs": [],
   "source": [
    "def first_line():\n",
    "    print(\"First line of some song\")"
   ]
  },
  {
   "cell_type": "markdown",
   "id": "c66b07e5",
   "metadata": {},
   "source": [
    "Or they can have many"
   ]
  },
  {
   "cell_type": "code",
   "execution_count": null,
   "id": "554529dc",
   "metadata": {},
   "outputs": [],
   "source": [
    "def sum_of_five_numbers(a, b, c, d, e):\n",
    "    return a + b + c + d + e\n",
    "\n",
    "sum_of_five_numbers(1, 2, 3, 4, 5)"
   ]
  },
  {
   "cell_type": "markdown",
   "id": "ff0a3f11",
   "metadata": {},
   "source": [
    "We can even make some, or even all, the arguments optional, by supplying default values:"
   ]
  },
  {
   "cell_type": "code",
   "execution_count": null,
   "id": "e6b9ca4c",
   "metadata": {},
   "outputs": [],
   "source": [
    "def sum_of_five_numbers(a=0, b=0, c=0, d=0, e=0):\n",
    "    return a + b + c + d + e\n",
    "\n",
    "sum_of_five_numbers()"
   ]
  },
  {
   "cell_type": "markdown",
   "id": "678db69d",
   "metadata": {},
   "source": [
    "The only rule here is that any optional arguments must come after any that do not have default values. The rules for constructing flexible function signatures in Python give much more flexibility than this, but the optional arguments trick is an easy one, and too useful not to introduce right away!\n",
    "\n",
    "## More function composition\n",
    "Once we define our own functions, we can use them to define more complicated functions. Or we can use builtin functions to assist in defining our own functions. For example, we can use the `math.hypot` function to define a `distance` function between two points supplied as x and y coordinates:"
   ]
  },
  {
   "cell_type": "code",
   "execution_count": null,
   "id": "126d810d",
   "metadata": {},
   "outputs": [],
   "source": [
    "def distance(x1, y1, x2=0, y2=0):\n",
    "    return math.hypot(x1 - x2, y1 - y2)\n",
    "\n",
    "distance(10, 10, 40, 50)"
   ]
  },
  {
   "cell_type": "markdown",
   "id": "d813cc56",
   "metadata": {},
   "source": [
    "Or for (say) the perimeter of a triangle"
   ]
  },
  {
   "cell_type": "code",
   "execution_count": null,
   "id": "8487f0fe",
   "metadata": {},
   "outputs": [],
   "source": [
    "def perimeter(x1, y1, x2, y2, x3, y3):\n",
    "    d12 = distance(x1, y1, x2, y2)\n",
    "    d23 = distance(x2, y2, x3, y3)\n",
    "    d31 = distance(x3, y3, x1, y1)\n",
    "    return d12 + d23 + d31\n",
    "\n",
    "# A 3-4-5 triangle, with one corner at the origin\n",
    "perimeter(0, 0, 3, 0, 0, 4)"
   ]
  },
  {
   "cell_type": "markdown",
   "id": "61b4a209",
   "metadata": {},
   "source": [
    "The `perimeter` function uses our `distance` function three times, and the `distance` function uses `math.hypot` each time to get the final result. All this without Python ever getting confused about which variable is which, and for that matter forgetting about most of them!"
   ]
  },
  {
   "cell_type": "code",
   "execution_count": null,
   "id": "9f70e39d",
   "metadata": {
    "tags": [
     "raises-exception"
    ]
   },
   "outputs": [],
   "source": [
    "x1, y1, x2, y2, x3, y3"
   ]
  },
  {
   "cell_type": "markdown",
   "id": "58664b6c",
   "metadata": {},
   "source": [
    "## An aside on docstrings\n",
    "We can add documentation to Python functions in a way that makes it easier for others to know what they do. Here's an example format:"
   ]
  },
  {
   "cell_type": "code",
   "execution_count": null,
   "id": "552f6b7a",
   "metadata": {},
   "outputs": [],
   "source": [
    "def perimeter_2(x1, y1, x2, y2, x3, y3):\n",
    "    \"\"\"Returns perimeter of a triangle.\n",
    "    \n",
    "    Args:\n",
    "        x1 (float): x coord of first point.\n",
    "        y1 (float): y coord of first point.\n",
    "        x2 (float): x coord of second point.\n",
    "        y2 (float): y coord of second point.\n",
    "        x3 (float): x coord of third point.\n",
    "        y3 (float): y coord of third point.\n",
    "    \n",
    "    Returns:\n",
    "        (float): Length of the perimeter.\n",
    "    \"\"\"\n",
    "    d12 = distance(x1, y1, x2, y2)\n",
    "    d23 = distance(x2, y2, x3, y3)\n",
    "    d31 = distance(x3, y3, x1, y1)\n",
    "    return d12 + d23 + d31"
   ]
  },
  {
   "cell_type": "markdown",
   "id": "7ad86904",
   "metadata": {},
   "source": [
    "If you hover the mouse near the function definition, you should see what I mean. How docstrings are formatted and used is really beyond the scope of these sessions, but it can be important at an organisational level to develop standards around such things."
   ]
  }
 ],
 "metadata": {
  "kernelspec": {
   "display_name": "intro-python-1",
   "language": "python",
   "name": "python3"
  },
  "language_info": {
   "codemirror_mode": {
    "name": "ipython",
    "version": 3
   },
   "file_extension": ".py",
   "mimetype": "text/x-python",
   "name": "python",
   "nbconvert_exporter": "python",
   "pygments_lexer": "ipython3",
   "version": "3.11.13"
  }
 },
 "nbformat": 4,
 "nbformat_minor": 5
}
