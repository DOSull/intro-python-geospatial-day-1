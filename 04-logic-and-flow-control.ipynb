{
 "cells": [
  {
   "cell_type": "markdown",
   "id": "5cc87d18",
   "metadata": {},
   "source": [
    "# Logic and flow control\n",
    "We've already seen how Python can evaluate mathematical expressions. It can also evaluate the truth or falsity of _Boolean expressions_. A boolean expression is like a mathematical expression, but restricted to the values and operators of Boolean logic.\n",
    "\n",
    "_Boolean logic_ defines the results of expressions consisting only of the values `True` and `False` and a small set of _logical_ or _boolean operators_, most importantly, `and`, `or`, and `not`.\n",
    "\n",
    "## Boolean expressions\n",
    "A boolean expression evaluates as either `True` or `False`. Typically such expressions involve testing for some relationship between two values. For example, is 7 greater than 3?"
   ]
  },
  {
   "cell_type": "code",
   "execution_count": null,
   "id": "ac334ab3",
   "metadata": {},
   "outputs": [],
   "source": [
    "7 > 3"
   ]
  },
  {
   "cell_type": "markdown",
   "id": "9c91ac43",
   "metadata": {},
   "source": [
    "Is 7 less than 3?"
   ]
  },
  {
   "cell_type": "code",
   "execution_count": null,
   "id": "21375006",
   "metadata": {},
   "outputs": [],
   "source": [
    "7 < 3"
   ]
  },
  {
   "cell_type": "markdown",
   "id": "c8236061",
   "metadata": {},
   "source": [
    "Is 7 equal to 3? Here, we use the _equality_ operator, which is what the double-equal sign `==` we've seen before is."
   ]
  },
  {
   "cell_type": "code",
   "execution_count": null,
   "id": "9d3731bc",
   "metadata": {},
   "outputs": [],
   "source": [
    "7 == 3"
   ]
  },
  {
   "cell_type": "markdown",
   "id": "87f0c466",
   "metadata": {},
   "source": [
    "The inequality operator is `!=`:"
   ]
  },
  {
   "cell_type": "code",
   "execution_count": null,
   "id": "3a9fa281",
   "metadata": {},
   "outputs": [],
   "source": [
    "7 != 3"
   ]
  },
  {
   "cell_type": "markdown",
   "id": "002e5060",
   "metadata": {},
   "source": [
    "### Compund expressions\n",
    "So far so simple. We can also combine boolean values using the boolean operators `and`, `or`, and `not`."
   ]
  },
  {
   "cell_type": "code",
   "execution_count": null,
   "id": "60c3f344",
   "metadata": {},
   "outputs": [],
   "source": [
    "True and True"
   ]
  },
  {
   "cell_type": "code",
   "execution_count": null,
   "id": "f17dd1b4",
   "metadata": {},
   "outputs": [],
   "source": [
    "True and False"
   ]
  },
  {
   "cell_type": "code",
   "execution_count": null,
   "id": "b1632808",
   "metadata": {},
   "outputs": [],
   "source": [
    "True or True"
   ]
  },
  {
   "cell_type": "code",
   "execution_count": null,
   "id": "673e674f",
   "metadata": {},
   "outputs": [],
   "source": [
    "True or False"
   ]
  },
  {
   "cell_type": "code",
   "execution_count": null,
   "id": "4574f01b",
   "metadata": {},
   "outputs": [],
   "source": [
    "not True"
   ]
  },
  {
   "cell_type": "code",
   "execution_count": null,
   "id": "2fb8deba",
   "metadata": {},
   "outputs": [],
   "source": [
    "not True or True"
   ]
  },
  {
   "cell_type": "markdown",
   "id": "3ee4f6f7",
   "metadata": {},
   "source": [
    "As with mathematical expressions it may make sense to use parentheses to make clear your intentions..."
   ]
  },
  {
   "cell_type": "code",
   "execution_count": null,
   "id": "4043291c",
   "metadata": {},
   "outputs": [],
   "source": [
    "not (True or True)"
   ]
  },
  {
   "cell_type": "markdown",
   "id": "4088d065",
   "metadata": {},
   "source": [
    "It's worth knowing (and avoiding the problems it can lead to) that the 'nothing' values of basic types, such as `0` (the nothing `int`), `0.0` (the nothing `float`), `\"\"` (the nothing `str`) and even `[]` (the empty list, can all be silently converted to logical `False` values leading to strange nonsense like"
   ]
  },
  {
   "cell_type": "code",
   "execution_count": null,
   "id": "89bc0930",
   "metadata": {},
   "outputs": [],
   "source": [
    "False or \"\" and 0 and [1]"
   ]
  },
  {
   "cell_type": "markdown",
   "id": "06c05f79",
   "metadata": {},
   "source": [
    "In general, it's a good idea to keep track of the types of values you expect and handle them appropriately (so don't use logical operators on non-Boolean values if you can help it)."
   ]
  },
  {
   "cell_type": "markdown",
   "id": "47e272dd",
   "metadata": {},
   "source": [
    "## Boolean expressions and program flow\n",
    "Seen out of context like this, it's difficult to make much sense of such expressions. In practice, we use such expressions to make decisions about what to do next in a program. To do this we add new keywords, `if`, `elif`, and `else`.\n",
    "\n",
    "When boolean expression following an `if` statement evaluates to `True` the code execute drops into the indented block of code following the condition and executes it. If the expression evaluates to `False` it skips the indented block of code completely."
   ]
  },
  {
   "cell_type": "code",
   "execution_count": null,
   "id": "4898db65",
   "metadata": {},
   "outputs": [],
   "source": [
    "n = 10\n",
    "if n % 2 == 0:\n",
    "    # I'll have more to say about 'f-strings' soon\n",
    "    print(f\"{n} is even.\") "
   ]
  },
  {
   "cell_type": "markdown",
   "id": "a2d691ab",
   "metadata": {},
   "source": [
    "Let's put this in a function."
   ]
  },
  {
   "cell_type": "code",
   "execution_count": null,
   "id": "34963bac",
   "metadata": {},
   "outputs": [],
   "source": [
    "def even_or_odd(number):\n",
    "    if number % 2 == 0:\n",
    "        print(f\"{number} is even.\")\n",
    "        return\n",
    "    print(f\"{number} is odd.\")  "
   ]
  },
  {
   "cell_type": "code",
   "execution_count": null,
   "id": "96859829",
   "metadata": {},
   "outputs": [],
   "source": [
    "even_or_odd(7)"
   ]
  },
  {
   "cell_type": "markdown",
   "id": "1f8a2229",
   "metadata": {},
   "source": [
    "We can extend the control of flow with `else` and `elif` clauses. An `else` clause follows on from an `if` clause and the block following it will be what is executed when the `if` expression evaluates to `False`. So a 'nicer' version of `even_or_odd` might look like this:"
   ]
  },
  {
   "cell_type": "code",
   "execution_count": null,
   "id": "e17792ca",
   "metadata": {},
   "outputs": [],
   "source": [
    "def even_or_odd(number):\n",
    "    if number % 2 == 0:\n",
    "        print(f\"{number} is even.\")\n",
    "    else:\n",
    "        print(f\"{number} is odd.\")    "
   ]
  },
  {
   "cell_type": "markdown",
   "id": "0a41cbcd",
   "metadata": {},
   "source": [
    "An `elif` clause allows for chaining sequences of logical tests. Here's an example of that."
   ]
  },
  {
   "cell_type": "code",
   "execution_count": null,
   "id": "4ec327d5",
   "metadata": {},
   "outputs": [],
   "source": [
    "def even_or_odd_including_floats(number):\n",
    "    # isinstance checks the type of a variable\n",
    "    if not isinstance(number, (int, float)):\n",
    "        print(f\"{number} is not a number.\")\n",
    "    elif isinstance(number, int):\n",
    "        # run even_or_odd on the integer\n",
    "        even_or_odd(number)\n",
    "    elif int(number) == number:\n",
    "        # tell people we know it's not an integer, but it's value is\n",
    "        print(f\"{number} is a decimal equal to the integer {int(number)}.\")\n",
    "        even_or_odd(int(number))\n",
    "    else:\n",
    "        print(f\"{number} is a non-integer number.\")"
   ]
  },
  {
   "cell_type": "code",
   "execution_count": null,
   "id": "b78583f6",
   "metadata": {},
   "outputs": [],
   "source": [
    "even_or_odd_including_floats(7.0)"
   ]
  },
  {
   "cell_type": "markdown",
   "id": "bcd89b0c",
   "metadata": {},
   "source": [
    "## A more elaborate example\n",
    "Here's an example with nested branches in the flow of execution."
   ]
  },
  {
   "cell_type": "code",
   "execution_count": null,
   "id": "ef1a6793",
   "metadata": {},
   "outputs": [],
   "source": [
    "# Determines if the supplied year is a leap year\n",
    "# and also tells us why\n",
    "# we assume that year is an integer\n",
    "def is_leap_year(year):\n",
    "    # if the year is NOT divisible by 4, then it's definitely not a leap year \n",
    "    if not (year % 4 == 0):\n",
    "        print(f\"{year} is not a leap year: not divisible by 4\")\n",
    "    # if it is divisible by 4, we have to check if it is a century\n",
    "    elif year % 100 == 0:\n",
    "        # if it is a century, we have to test the century also\n",
    "        century = year // 100\n",
    "        if century % 4 == 0:\n",
    "            print(f\"{year} is a leap year: a century divisible by 4\")\n",
    "        else:\n",
    "            print(f\"{year} isn't a leap year: a century not divisible by 4\")\n",
    "    # if we get to here then it is divisible by 4 and not a century\n",
    "    # so it is a simple leap year\n",
    "    else:\n",
    "        print(f\"{year} is a simple leap year divisible by 4\")"
   ]
  },
  {
   "cell_type": "markdown",
   "id": "7629ff31",
   "metadata": {},
   "source": [
    "Turns out the solar year is a bit less than 365-and-a-quarter days, so we skip leap years in three out of every four century years. Anyway, give the function a try below."
   ]
  },
  {
   "cell_type": "code",
   "execution_count": null,
   "id": "98855a49",
   "metadata": {},
   "outputs": [],
   "source": [
    "is_leap_year(2025)"
   ]
  },
  {
   "cell_type": "markdown",
   "id": "34f6f4fe",
   "metadata": {},
   "source": [
    "A good thing to try would be to add a clause or two to the `is_leap_year` function to handle the case where a non-numeric type such as e.g., `\"2025\"` is passed to the function."
   ]
  },
  {
   "cell_type": "markdown",
   "id": "23a9996d",
   "metadata": {},
   "source": [
    "## `while` clauses and looping\n",
    "As we will see soon there are other operators more suited to iterating over collections (such as `list` objects), but with the addition of `while` clauses we already have the ability to cause program execution to 'loop'. The `while` statement will cause execution of the indented block of code that follows it to repeatedly execute, for as long as the Boolean expression following it evaluates to `True`.\n",
    "\n",
    "Here's a simple count down example."
   ]
  },
  {
   "cell_type": "code",
   "execution_count": null,
   "id": "27f75812",
   "metadata": {},
   "outputs": [],
   "source": [
    "n = 10\n",
    "while n >= 0:\n",
    "    print(n)\n",
    "    n = n - 1\n",
    "else:\n",
    "    print(\"Blast off!\")"
   ]
  },
  {
   "cell_type": "markdown",
   "id": "c5f1836b",
   "metadata": {},
   "source": [
    "Note the `else` clause here which will be executed only as the loop ends. It isn't necessary to include an `else` clause in a `while` loop, but it's an often-forgotten feature that can be very useful.\n",
    "\n",
    "We will come back to looping applications of `while` a little later in the course.\n",
    "\n",
    "One very useful application of `while`, although it should be used with caution, is a `while True:` clause. In combination with `break` and `continue` this appears in the [`hangman.py`](hangman.py) program which we'll look at next."
   ]
  },
  {
   "cell_type": "markdown",
   "id": "1d183650",
   "metadata": {},
   "source": [
    "## Aside: the `match... :` `case...:`  structure\n",
    "It's not uncommon in Python to see this kind of thing:\n",
    "\n",
    "```python\n",
    "if some_variable == value1:\n",
    "    # stuff\n",
    "elif some_variable == value2:\n",
    "    # stuff\n",
    "elif some_variable == value3:\n",
    "    # stuff\n",
    "elif some_variable == value4:\n",
    "    # stuff\n",
    "elif some_variable == value5:\n",
    "    # stuff\n",
    "else:\n",
    "    # stuff\n",
    "```\n",
    "\n",
    "_There is nothing at all wrong with this_. I repeat: **NOTHING**. But a more recent introduction to the language, which some prefer is\n",
    "\n",
    "```python\n",
    "match some_variable:\n",
    "    case value1:\n",
    "        # stuff\n",
    "    case value2:\n",
    "        # stuff\n",
    "    case value3:\n",
    "        # stuff\n",
    "    case value4:\n",
    "        # stuff\n",
    "    case value5:\n",
    "        # stuff\n",
    "    case _:\n",
    "        # stuff\n",
    "```\n",
    "\n",
    "The `match... case...` structure mimics 'switch' structures in many other languages, and some people were surprised not to see such a structure in Python over many years. `match...case...` has some unusual features that can make it a better way to handle complex branching in some situations. I include it here for completeness, but recommend sticking with `if... elif... else` until you're more comfortable with the language. See [the python documentation](https://docs.python.org/3/tutorial/controlflow.html#match-statements) for more when you're ready."
   ]
  }
 ],
 "metadata": {
  "kernelspec": {
   "display_name": "intro-python-2",
   "language": "python",
   "name": "python3"
  },
  "language_info": {
   "codemirror_mode": {
    "name": "ipython",
    "version": 3
   },
   "file_extension": ".py",
   "mimetype": "text/x-python",
   "name": "python",
   "nbconvert_exporter": "python",
   "pygments_lexer": "ipython3",
   "version": "3.11.6"
  }
 },
 "nbformat": 4,
 "nbformat_minor": 5
}
