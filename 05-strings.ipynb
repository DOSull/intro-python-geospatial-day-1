{
 "cells": [
  {
   "cell_type": "markdown",
   "metadata": {},
   "source": [
    "# `str`ings, `list`s, and `tuple`s \n",
    "If the only kinds of data we could handle in a programming language were single-value variables we probably wouldn't get very far, or get there very quickly. To a good extent the whole point of computing is doing repetitive, similar things quickly. To this end a language needs to support _collections_ of data, and an ability to `iterate` over them. In this notebook we review the most fundamental collection or 'iterable' data types in Python.\n",
    "\n",
    "## Strings\n",
    "Strings are a commonly encountered data type in programming, used to represent text information, single characters, words, sentences, input from text files, and so on. They are very different from numerical data types, and as such we need a different set of operations to manipulate them. Python provides a wide array of functions for manipulating text in useful ways.\n",
    "\n",
    "Strings are a little bit unusual in that they are both a basic type&mdash;the word \"spam\" is a single item of data&mdash; but they are also a 'collection' of sorts, a collection of characters in a particular order. This means they have many of the characteristics of collections, and are a good place to start in our exploration of collection data types."
   ]
  },
  {
   "cell_type": "markdown",
   "metadata": {},
   "source": [
    "## String methods\n",
    "In their 'text data' guise strings can be manipulated with many built in string _methods_. Unfortunately, a method is a special kind of function that can be called on a particular data type. A method is invoked with the _dot operator_ `.` as seen in the examples below.\n",
    "\n",
    "Methods are a more advanced topic related to _object-oriented programming_. You will see methods used all the time in code, but won't learn how to write them in these sessions. For now, all you need to know is that they are functions specific to particular data types or objects (such as strings, lists, dataframes, and so on)."
   ]
  },
  {
   "cell_type": "markdown",
   "metadata": {},
   "source": [
    "\n",
    "Anyway... on to some string methods. I show a sampling below, but you'll find complete information [in the language documentation here](https://docs.python.org/3/library/stdtypes.html#string-methods). First we'll define a string variable `some_words` to work with."
   ]
  },
  {
   "cell_type": "code",
   "execution_count": null,
   "metadata": {},
   "outputs": [],
   "source": [
    "some_words = \"The quick brown fox jumps over the lazy dog\""
   ]
  },
  {
   "cell_type": "markdown",
   "metadata": {},
   "source": [
    "We can get an all upper-case version:"
   ]
  },
  {
   "cell_type": "code",
   "execution_count": null,
   "metadata": {},
   "outputs": [],
   "source": [
    "some_words.upper()"
   ]
  },
  {
   "cell_type": "markdown",
   "metadata": {},
   "source": [
    "Or an all lower-case version:"
   ]
  },
  {
   "cell_type": "code",
   "execution_count": null,
   "metadata": {},
   "outputs": [],
   "source": [
    "some_words.lower()"
   ]
  },
  {
   "cell_type": "markdown",
   "metadata": {},
   "source": [
    "There are also `capitalize()` and `title()` methods, and methods that test if a string is lower case, upper-case, etc., called `islower()`, `isupper()`, and so on. In the realm of testing the characteristics there are also methods such as `isnumeric()` and `isalpha()`, and you can even check if a string starts or ends with some sequence of characters:"
   ]
  },
  {
   "cell_type": "code",
   "execution_count": null,
   "metadata": {},
   "outputs": [],
   "source": [
    "some_words.startswith(\"the\")"
   ]
  },
  {
   "cell_type": "markdown",
   "metadata": {},
   "source": [
    "Why is that result `False`? How might you guard against a problem like that? There is also an `endswith()` method.\n",
    "\n",
    "There are a ton more built-in string methods. Just as an example, we can _centre_ a string by adding spaces at its beginning and end to pack it out to a desired length:"
   ]
  },
  {
   "cell_type": "code",
   "execution_count": null,
   "metadata": {},
   "outputs": [],
   "source": [
    "some_words.center(50)"
   ]
  },
  {
   "cell_type": "markdown",
   "metadata": {},
   "source": [
    "You can even do simple text replacements:"
   ]
  },
  {
   "cell_type": "code",
   "execution_count": null,
   "metadata": {},
   "outputs": [],
   "source": [
    "some_words.replace(\"dog\", \"cat\")"
   ]
  },
  {
   "cell_type": "markdown",
   "metadata": {},
   "source": [
    "## Strings are _immutable_\n",
    "Finally it is important to note that a string once created cannot have the value of characters changed. Strings are said to be _immutable_. This means that if you want to change a string, you have to assign the result of any of the above methods back to the string itself. None of the things I have done above have changed `some_words`:"
   ]
  },
  {
   "cell_type": "code",
   "execution_count": null,
   "metadata": {},
   "outputs": [],
   "source": [
    "some_words"
   ]
  },
  {
   "cell_type": "markdown",
   "metadata": {},
   "source": [
    "To change the value of `some_words` we have to apply a method and assign it back to itself:"
   ]
  },
  {
   "cell_type": "code",
   "execution_count": null,
   "metadata": {},
   "outputs": [],
   "source": [
    "some_words = some_words.title()\n",
    "some_words"
   ]
  },
  {
   "cell_type": "markdown",
   "metadata": {},
   "source": [
    "This is an important difference between strings and lists (which we'll get to shortly)."
   ]
  },
  {
   "cell_type": "markdown",
   "metadata": {},
   "source": [
    "## f-strings\n",
    "You've already seen these. While we can add strings together"
   ]
  },
  {
   "cell_type": "code",
   "execution_count": null,
   "metadata": {},
   "outputs": [],
   "source": [
    "a = \"Hello\"\n",
    "b = \"World\"\n",
    "print(a + \" \" + b)"
   ]
  },
  {
   "cell_type": "markdown",
   "metadata": {},
   "source": [
    "A much nicer approach is using f-strings:"
   ]
  },
  {
   "cell_type": "code",
   "execution_count": null,
   "metadata": {},
   "outputs": [],
   "source": [
    "print(f\"{a} {b}\")"
   ]
  },
  {
   "cell_type": "markdown",
   "metadata": {},
   "source": [
    "Basically, inside an f-string, which is denoted by an `f` character before the quote marks, Python converts anything in curly brackets into an equivalent string representation and includes it in the string 'inline'. There's more to it than that, but that's enough information for now.\n",
    "\n",
    "We'll be using these a lot throughout the course, so I'll say nothing further about them here. Here's a link to the documentation: https://docs.python.org/3/tutorial/inputoutput.html#formatted-string-literals"
   ]
  },
  {
   "cell_type": "markdown",
   "metadata": {},
   "source": [
    "### Checking what's in a string\n",
    "A very frequent requirement when working with text data is to check if it contains particular characters or substrings, and if so, where those matches are and how many there are."
   ]
  },
  {
   "cell_type": "code",
   "execution_count": null,
   "metadata": {},
   "outputs": [],
   "source": [
    "# count how often \n",
    "some_words.count('o')"
   ]
  },
  {
   "cell_type": "code",
   "execution_count": null,
   "metadata": {},
   "outputs": [],
   "source": [
    "# check where it is: it will only report the first occurrence\n",
    "# and returns -1 if it's not there\n",
    "some_words.find(\"o\")"
   ]
  },
  {
   "cell_type": "markdown",
   "metadata": {},
   "source": [
    "Sometimes you don't need the position of the substring, you just need to know if it is there at all. In this case, you use the `in` logical operator:"
   ]
  },
  {
   "cell_type": "code",
   "execution_count": null,
   "metadata": {},
   "outputs": [],
   "source": [
    "\"fox\" in some_words"
   ]
  },
  {
   "cell_type": "markdown",
   "metadata": {},
   "source": [
    "## Strings are sequences\n",
    "That number returmed by the `find()` method is the _index position_ of the substring in the string you are searching. There's even an `index()` method, which will give the same answer as `find()` but behaves slightly differently when the substring is not found.\n",
    "\n",
    "That's not what we are interested in here. What is interesting is that this indicates in an indirect what that as far as a Python is concerned a `string` is a *sequence of characters*. We can access subsequences of a string using an index, in square brackets."
   ]
  },
  {
   "cell_type": "code",
   "execution_count": null,
   "metadata": {},
   "outputs": [],
   "source": [
    "more_words = 'Hello world'\n",
    "more_words[1]"
   ]
  },
  {
   "cell_type": "markdown",
   "metadata": {},
   "source": [
    "The number inside the `[]` is an *index* which picks out a substring of `'Hello world'`. The single most important thing about indexes in Python is that **they start at 0, _not_ at 1**! The first character in a string is at index position 0:"
   ]
  },
  {
   "cell_type": "code",
   "execution_count": null,
   "metadata": {},
   "outputs": [],
   "source": [
    "more_words[0]"
   ]
  },
  {
   "cell_type": "markdown",
   "metadata": {},
   "source": [
    "The value inside the `[]` can be an expression"
   ]
  },
  {
   "cell_type": "code",
   "execution_count": null,
   "metadata": {},
   "outputs": [],
   "source": [
    "more_words[2 ** 2]"
   ]
  },
  {
   "cell_type": "markdown",
   "metadata": {},
   "source": [
    "The index must be an `int` or it is an error"
   ]
  },
  {
   "cell_type": "code",
   "execution_count": null,
   "metadata": {
    "tags": [
     "raises-exception"
    ]
   },
   "outputs": [],
   "source": [
    "more_words[1.5]"
   ]
  },
  {
   "cell_type": "markdown",
   "metadata": {},
   "source": [
    "## _Slices_ from sequences\n",
    "We can index more than one element in a sequence, using *slice* operations, to extract a segment from a string like this"
   ]
  },
  {
   "cell_type": "code",
   "execution_count": null,
   "metadata": {},
   "outputs": [],
   "source": [
    "more_words[0:5]"
   ]
  },
  {
   "cell_type": "code",
   "execution_count": null,
   "metadata": {},
   "outputs": [],
   "source": [
    "more_words[6:11]"
   ]
  },
  {
   "cell_type": "markdown",
   "metadata": {},
   "source": [
    "The index before the colon is the first character in the slice, while the second index is the one *after* the last one included. This is a bit confusing, but you do get used to it. It is really a side-effect of starting index values from 0, and also means that **the length of the slice you get is equal to the difference between the two index values** (check this in the examples above). It also means that"
   ]
  },
  {
   "cell_type": "code",
   "execution_count": null,
   "metadata": {},
   "outputs": [],
   "source": [
    "more_words[0:len(more_words)]"
   ]
  },
  {
   "cell_type": "markdown",
   "metadata": {},
   "source": [
    "returns the full string."
   ]
  },
  {
   "cell_type": "markdown",
   "metadata": {},
   "source": [
    "If the index before the `:` is missing then `0` is assumed and if the index after the `:` is missing then length of the string is assumed."
   ]
  },
  {
   "cell_type": "code",
   "execution_count": null,
   "metadata": {},
   "outputs": [],
   "source": [
    "more_words[:5]"
   ]
  },
  {
   "cell_type": "code",
   "execution_count": null,
   "metadata": {},
   "outputs": [],
   "source": [
    "more_words[6:]"
   ]
  },
  {
   "cell_type": "code",
   "execution_count": null,
   "metadata": {},
   "outputs": [],
   "source": [
    "more_words[:]"
   ]
  },
  {
   "cell_type": "markdown",
   "metadata": {},
   "source": [
    "Here is an example of the kind of thing you can do with this"
   ]
  },
  {
   "cell_type": "code",
   "execution_count": null,
   "metadata": {},
   "outputs": [],
   "source": [
    "i = 0\n",
    "s = 'ACROSTIC'\n",
    "while i < len(s):\n",
    "    # from where we are to the end\n",
    "    # followed by the start to where we are\n",
    "    print(f\"{s[i:]}{s[:i]}\")\n",
    "    i = i + 1"
   ]
  },
  {
   "cell_type": "markdown",
   "metadata": {},
   "source": [
    "### More slice-y goodness\n",
    "You can also count back from the end of a string with negative indices"
   ]
  },
  {
   "cell_type": "code",
   "execution_count": null,
   "metadata": {},
   "outputs": [],
   "source": [
    "more_words[-1]"
   ]
  },
  {
   "cell_type": "code",
   "execution_count": null,
   "metadata": {},
   "outputs": [],
   "source": [
    "more_words[-2]"
   ]
  },
  {
   "cell_type": "code",
   "execution_count": null,
   "metadata": {},
   "outputs": [],
   "source": [
    "more_words[:-4]"
   ]
  },
  {
   "cell_type": "code",
   "execution_count": null,
   "metadata": {},
   "outputs": [],
   "source": [
    "more_words[-3:]"
   ]
  },
  {
   "cell_type": "markdown",
   "metadata": {},
   "source": [
    "You can also include a 'skip' in a slice specification by adding a third number after another `:`. This will cause the slice to skip index positions. So here are all the even index positions (because we left out the end of the slice):"
   ]
  },
  {
   "cell_type": "code",
   "execution_count": null,
   "metadata": {},
   "outputs": [],
   "source": [
    "more_words[0::2]"
   ]
  },
  {
   "cell_type": "markdown",
   "metadata": {},
   "source": [
    "The odd index positions:"
   ]
  },
  {
   "cell_type": "code",
   "execution_count": null,
   "metadata": {},
   "outputs": [],
   "source": [
    "more_words[1::2]"
   ]
  },
  {
   "cell_type": "markdown",
   "metadata": {},
   "source": [
    "And even... the string backwards:"
   ]
  },
  {
   "cell_type": "code",
   "execution_count": null,
   "metadata": {},
   "outputs": [],
   "source": [
    "more_words[::-1]"
   ]
  },
  {
   "cell_type": "markdown",
   "metadata": {},
   "source": [
    "When you get used to the slicing semantics you'll find it a powerful way to do all kinds of data manipulation."
   ]
  },
  {
   "cell_type": "markdown",
   "metadata": {},
   "source": [
    "## REMEMBER: they are immutable!\n",
    "Because strings are immutable, we can't 'reach in' to a particular position, or slice and change character(s):"
   ]
  },
  {
   "cell_type": "code",
   "execution_count": null,
   "metadata": {
    "tags": [
     "raises-exception"
    ]
   },
   "outputs": [],
   "source": [
    "more_words[1] = \"a\""
   ]
  }
 ],
 "metadata": {
  "kernelspec": {
   "display_name": "intro-python-1",
   "language": "python",
   "name": "python3"
  },
  "language_info": {
   "codemirror_mode": {
    "name": "ipython",
    "version": 3
   },
   "file_extension": ".py",
   "mimetype": "text/x-python",
   "name": "python",
   "nbconvert_exporter": "python",
   "pygments_lexer": "ipython3",
   "version": "3.11.13"
  }
 },
 "nbformat": 4,
 "nbformat_minor": 4
}
