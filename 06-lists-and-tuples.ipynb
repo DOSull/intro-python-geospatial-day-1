{
 "cells": [
  {
   "cell_type": "markdown",
   "metadata": {},
   "source": [
    "# The `list` type\n",
    "Lists are a fundamental data type used in Python. They are absolutely central to the power of the language for dealing with large amounts of data.\n",
    "\n",
    "Like strings, lists are sequences, but they can contain not just letters, but any kind of data. Lists are denoted by square brackets `[]`"
   ]
  },
  {
   "cell_type": "code",
   "execution_count": null,
   "metadata": {},
   "outputs": [],
   "source": [
    "small_primes = [2, 3, 5, 7, 11, 13, 17, 19]\n",
    "small_primes"
   ]
  },
  {
   "cell_type": "markdown",
   "metadata": {},
   "source": [
    "And there are a variety of functions for dealing with them in the same way we deal with strings, including indexing and slicing. The semantics of indexing and slicing are _exactly_ the same for lists as they are for strings."
   ]
  },
  {
   "cell_type": "code",
   "execution_count": null,
   "metadata": {},
   "outputs": [],
   "source": [
    "len(small_primes)"
   ]
  },
  {
   "cell_type": "code",
   "execution_count": null,
   "metadata": {},
   "outputs": [],
   "source": [
    "small_primes[0]"
   ]
  },
  {
   "cell_type": "code",
   "execution_count": null,
   "metadata": {},
   "outputs": [],
   "source": [
    "small_primes[1:3]"
   ]
  },
  {
   "cell_type": "code",
   "execution_count": null,
   "metadata": {},
   "outputs": [],
   "source": [
    "4 in small_primes"
   ]
  },
  {
   "cell_type": "markdown",
   "metadata": {},
   "source": [
    "There are also operations that wouldn't make much sense in a `string`, but which can be useful in a `list`. \\[Note that `max` _will work_ on a string... it's just unclear if it makes a lot of sense!\\]"
   ]
  },
  {
   "cell_type": "code",
   "execution_count": null,
   "metadata": {},
   "outputs": [],
   "source": [
    "max(small_primes)"
   ]
  },
  {
   "cell_type": "markdown",
   "metadata": {},
   "source": [
    "We can also make a list from a string."
   ]
  },
  {
   "cell_type": "code",
   "execution_count": null,
   "metadata": {},
   "outputs": [],
   "source": [
    "alphabet = list('abcdefghijklmnopqrstuvwxyz')\n",
    "alphabet"
   ]
  },
  {
   "cell_type": "markdown",
   "metadata": {},
   "source": [
    "You can also make a string from a list of strings, with the `join()` function, where the string you use to initiate the join, will be inserted between each item in the list."
   ]
  },
  {
   "cell_type": "code",
   "execution_count": null,
   "metadata": {},
   "outputs": [],
   "source": [
    "# the join string is empty so the letters just get\n",
    "# crashed together without spaces\n",
    "\"\".join(alphabet)"
   ]
  },
  {
   "cell_type": "markdown",
   "metadata": {},
   "source": [
    "You can also split a string at some specified separator to get a list (this is frequently used in data wrangling)."
   ]
  },
  {
   "cell_type": "code",
   "execution_count": null,
   "metadata": {},
   "outputs": [],
   "source": [
    "# make sure you understand this\n",
    "\",\".join(alphabet).split(\",\")"
   ]
  },
  {
   "cell_type": "markdown",
   "metadata": {},
   "source": [
    "It is important to realise that a list does not have to contain elements that are all the same type."
   ]
  },
  {
   "cell_type": "code",
   "execution_count": null,
   "metadata": {},
   "outputs": [],
   "source": [
    "lst = ['a', 1, '23.5', [3, 4, 5]]\n",
    "lst"
   ]
  },
  {
   "cell_type": "markdown",
   "metadata": {},
   "source": [
    "Notice that one of the members of this list is a **nested** list, i.e., a list inside a list. We can do this to arbitrary depth (if it makes sense to!)"
   ]
  },
  {
   "cell_type": "markdown",
   "metadata": {},
   "source": [
    "## List methods\n",
    "Like strings, there are many list methods available. See https://docs.python.org/3/tutorial/introduction.html#lists and https://docs.python.org/3/tutorial/datastructures.html#more-on-lists for all the details."
   ]
  },
  {
   "cell_type": "code",
   "execution_count": null,
   "metadata": {},
   "outputs": [],
   "source": [
    "five_letters = alphabet[:5]\n",
    "\n",
    "five_letters.append(\"f\")\n",
    "print(f\"appended f             {five_letters}\")\n",
    "\n",
    "five_letters.extend(list(\"ghij\"))\n",
    "print(f\"extended by [g,h,i,j]: {five_letters}\")\n",
    "\n",
    "five_letters.reverse()\n",
    "print(f\"reversed               {five_letters}\")\n",
    "\n",
    "five_letters.sort()\n",
    "print(f\"sorted                 {five_letters}\")"
   ]
  },
  {
   "cell_type": "markdown",
   "metadata": {},
   "source": [
    "## Lists are mutable\n",
    "You might have noticed that in order to see the result of running list methods, I have to ask to see the result. Recall that in the notebook on `str`ings I wrote things like\n",
    "\n",
    "```python\n",
    "s = \"hello\"\n",
    "s.upper()\n",
    "```\n",
    "\n",
    "whereas here I am doing\n",
    "\n",
    "```python\n",
    "l = [1, 2, 3]\n",
    "l.reverse()\n",
    "l\n",
    "```\n",
    "\n",
    "This is because lists are mutable. When a method is run on a list, _it changes the value of the list_ and returns `None`. That means that after running each method, the list has changed, but that calling the method won't show you the result. It also means that if you assign the result of running a method back to the variable itself, as we did with `str`ings that unexpected things are likely to happen.\n",
    "\n",
    "This can be a source of confusion early in your Python programming career and can lead to surprising errors. So:"
   ]
  },
  {
   "cell_type": "code",
   "execution_count": null,
   "metadata": {},
   "outputs": [],
   "source": [
    "some_letters = alphabet[0:10:2]\n",
    "print(f\"{some_letters = }\")"
   ]
  },
  {
   "cell_type": "markdown",
   "metadata": {},
   "source": [
    "is the list as we would expect, but if we assign the result of a list function and expect to get a new list, that fails:"
   ]
  },
  {
   "cell_type": "code",
   "execution_count": null,
   "metadata": {},
   "outputs": [],
   "source": [
    "some_letters_2 = some_letters.reverse()\n",
    "print(f\"{some_letters = } but {some_letters_2 = }\")"
   ]
  },
  {
   "cell_type": "markdown",
   "metadata": {},
   "source": [
    "So the `reverse()` method did its work (`some_letters` has indeed been reversed), but the result returned by invoking the method was `None` which is the value that got assigned to `some_letters_2`.\n",
    "\n",
    "It's really important to keep this difference between strings and lists in mind, because getting either one wrong can lead to subtle errors. Expecting list functions to return a list is the behaviour that more often causes difficult to detect unexpected and difficult problems.\n",
    "\n",
    "Code with the form\n",
    "\n",
    "```python\n",
    "some_list = some_list.some_method()\n",
    "```\n",
    "\n",
    "Will almost always not do what you expect it to. \n",
    "\n",
    "If you do need a list in its original order, but meanwhile also need to use it in a different order, or need it sorted or whatever, then make a copy. The easiest way to do this is with a `[:]` slice."
   ]
  },
  {
   "cell_type": "code",
   "execution_count": null,
   "metadata": {},
   "outputs": [],
   "source": [
    "last_five_letters = alphabet[-5:]\n",
    "last_five_letters_reversed = last_five_letters[:]  # this makes a copy\n",
    "last_five_letters_reversed.reverse()\n",
    "print(f\"{last_five_letters          = }\")\n",
    "print(f\"{last_five_letters_reversed = }\")"
   ]
  },
  {
   "cell_type": "markdown",
   "metadata": {},
   "source": [
    "### On the up side\n",
    "The above behaviour can seem annoying until you get used to it (I _guarantee_ it will catch you at some point) but the mutability of lists means you can change their contents. You can even insert extra elements. We already saw that you can use `append()` and `extend` to add elements to a list. But you can also update the values of individual list elements:"
   ]
  },
  {
   "cell_type": "code",
   "execution_count": null,
   "metadata": {},
   "outputs": [],
   "source": [
    "five_letters_again = alphabet[:5]\n",
    "five_letters_again[0] = \"z\"\n",
    "five_letters_again"
   ]
  },
  {
   "cell_type": "markdown",
   "metadata": {},
   "source": [
    "You can also replace slices of a list with new values (and the slice you are replacing and the new one need not be the same length):"
   ]
  },
  {
   "cell_type": "code",
   "execution_count": null,
   "metadata": {},
   "outputs": [],
   "source": [
    "five_letters[:-1] = [\"m\", \"n\"]\n",
    "five_letters"
   ]
  },
  {
   "cell_type": "markdown",
   "metadata": {},
   "source": [
    "Be careful though... it's easy to make a mistake like replacing an individual element with a slice and end up running into errors, _which are not reported as errors_. In other words, they are mistakes!"
   ]
  },
  {
   "cell_type": "code",
   "execution_count": null,
   "metadata": {},
   "outputs": [],
   "source": [
    "five_letters = alphabet[:5]\n",
    "five_letters[0] = alphabet[5:10]\n",
    "five_letters"
   ]
  },
  {
   "cell_type": "markdown",
   "metadata": {},
   "source": [
    "Now you have a nested list, which is probably not what you intended. Probably what you meant to do was"
   ]
  },
  {
   "cell_type": "code",
   "execution_count": null,
   "metadata": {},
   "outputs": [],
   "source": [
    "five_letters = alphabet[:5]\n",
    "five_letters[:1] = alphabet[5:10]\n",
    "five_letters"
   ]
  },
  {
   "cell_type": "markdown",
   "metadata": {},
   "source": [
    "The mutability of the `list` type makes them a true workhorse (along with dictionaries, which we will come to shortly) in everyday Python programming. \n",
    "\n",
    "For example, a lot of data are stored as _comma separated variables_ in text files. With a header of variable names, and rows of data:\n",
    "\n",
    "```\n",
    "ID,name,population\n",
    "001,\"Here\",1234\n",
    "002,\"There\",5678\n",
    "...\n",
    "```\n",
    "\n",
    "Hopefully, you can see that converting this into a list of variable names, and values using string `split()` and some of the other methods discussed in this and the last notebook is something we could do, if we had to. Of course a module like `pandas` is specifically designed to make handling such tabular data even easier than this, but it's good to appreciate that such low-level data manipulation is possible with basic data types in Python. We saw an example of this in the `hangman.py` script.\n",
    "\n",
    "Another example is low-level spatial data manipulation, where you may find yourself dealing with polygons as nested lists of lists: the exterior of the polygon is a list of points, and any holes are a _list of lists_ of points. Points in turn will be lists (or tuples... see below) of coordinates. Something like this:\n",
    "\n",
    "```python\n",
    "polygon = [\n",
    "    [[x1, y1], [x2, y2], ... [xn, yn]], # this is the exterior of the polygon\n",
    "    [   # this is the list of holes\n",
    "        [[x11, y11], [x12, y12], ... [x1n, y1n]],  # first hole \n",
    "        [[x21, y21], [x22, y22], ... [x2n, y2n]],  # another hole\n",
    "        ...                                        # and so on\n",
    "    ]]\n",
    "```\n",
    "\n",
    "So low-level editing of such data might involve detailed manipulation of lists. For example, you could remove all the holes in a polygon, by simply setting the list of holes to an empty list. Again, there are Python modules such as `shapely` and `geopandas` for dealing with these kinds of data, but even so learning to handle lists is an important Python programming skill, should the need arise."
   ]
  },
  {
   "cell_type": "markdown",
   "metadata": {},
   "source": [
    "## `tuple`s are immutable `list`s\n",
    "A `tuple` is like a list, but like a string it is immutable. The most reliable way to make a `tuple` is with round brackets:"
   ]
  },
  {
   "cell_type": "code",
   "execution_count": null,
   "metadata": {},
   "outputs": [],
   "source": [
    "numbers = (1, 2, 3, 4)\n",
    "numbers"
   ]
  },
  {
   "cell_type": "markdown",
   "metadata": {},
   "source": [
    "But they are immutable, so you can't do this:"
   ]
  },
  {
   "cell_type": "code",
   "execution_count": null,
   "metadata": {
    "tags": [
     "raises-exception"
    ]
   },
   "outputs": [],
   "source": [
    "numbers[2] = 5"
   ]
  },
  {
   "cell_type": "markdown",
   "metadata": {},
   "source": [
    "When we get to dictionaries in a little while an important reason for the mutable/immutable distinction will become clearer."
   ]
  },
  {
   "cell_type": "markdown",
   "metadata": {},
   "source": [
    "### Aside: 'tuple unpacking'\n",
    "One little Python 'trick' which tuples offer is 'tuple unpacking'. This allows us to do things like"
   ]
  },
  {
   "cell_type": "code",
   "execution_count": null,
   "metadata": {},
   "outputs": [],
   "source": [
    "a, b, c, = 1, 2, 3\n",
    "print(f\"{a = } {b = } {c = }\")"
   ]
  },
  {
   "cell_type": "markdown",
   "metadata": {},
   "source": [
    "And even"
   ]
  },
  {
   "cell_type": "code",
   "execution_count": null,
   "metadata": {},
   "outputs": [],
   "source": [
    "a, b, c = b, c, a\n",
    "print(f\"{a = } {b = } {c = }\")"
   ]
  }
 ],
 "metadata": {
  "kernelspec": {
   "display_name": "intro-python-1",
   "language": "python",
   "name": "python3"
  },
  "language_info": {
   "codemirror_mode": {
    "name": "ipython",
    "version": 3
   },
   "file_extension": ".py",
   "mimetype": "text/x-python",
   "name": "python",
   "nbconvert_exporter": "python",
   "pygments_lexer": "ipython3",
   "version": "3.11.13"
  }
 },
 "nbformat": 4,
 "nbformat_minor": 4
}
