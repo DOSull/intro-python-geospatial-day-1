{
 "cells": [
  {
   "cell_type": "markdown",
   "metadata": {},
   "source": [
    "# Iteration\n",
    "Iteration is a critical capability of programming languages. Much of the reason we use computers is that they can uncomplainingly and reliably do repetitive data processing tasks accurately and quickly. Iteration in the form of *loop* structures are how we make this happen."
   ]
  },
  {
   "cell_type": "markdown",
   "metadata": {},
   "source": [
    "## Reassignment of values to variables and `while` loops\n",
    "We already know that you can assign the result of an expression to a variable. For example"
   ]
  },
  {
   "cell_type": "code",
   "execution_count": null,
   "metadata": {},
   "outputs": [],
   "source": [
    "y = 5\n",
    "x = y + 1\n",
    "print(f\"{y = } {x = }\")"
   ]
  },
  {
   "cell_type": "markdown",
   "metadata": {},
   "source": [
    "Less obvious is that you can reassign the value of variable to a new value, *based on itself* (although I have already been doing this in notebooks without commenting on it especially)"
   ]
  },
  {
   "cell_type": "code",
   "execution_count": null,
   "metadata": {},
   "outputs": [],
   "source": [
    "z = y + 1\n",
    "z = z + 1\n",
    "print(z)"
   ]
  },
  {
   "cell_type": "markdown",
   "metadata": {},
   "source": [
    "For the Python interpreter `x = x + 1` isn't fundamentally different than `x = y + 1`. The result of the expression on the right of the assignment operator `=` is determined, and is assigned to the variable on the left. The difference is that `x = x + 1` updates the value stored in `x`, erasing the old value.\n",
    "\n",
    "It is important to realise that a statement like `z = z + 1` won't magic `z` into existence of it does not already exist. Try it"
   ]
  },
  {
   "cell_type": "code",
   "execution_count": null,
   "metadata": {
    "tags": [
     "raises-exception"
    ]
   },
   "outputs": [],
   "source": [
    "zz = zz + 1"
   ]
  },
  {
   "cell_type": "markdown",
   "metadata": {},
   "source": [
    "This means that a variable has to be assigned an initial value, before we can start updating in this way."
   ]
  },
  {
   "cell_type": "code",
   "execution_count": null,
   "metadata": {},
   "outputs": [],
   "source": [
    "a = 0\n",
    "a = a + 1\n",
    "print(a)\n",
    "a = a + 1\n",
    "print(a)"
   ]
  },
  {
   "cell_type": "markdown",
   "metadata": {},
   "source": [
    "This idea forms the basis of the simplest style of iteration in Python."
   ]
  },
  {
   "cell_type": "markdown",
   "metadata": {},
   "source": [
    "## The `while` loop\n",
    "Much of this section should already be familiar from our review of the `hangman.py` script, but it's good to review it here.\n",
    "\n",
    "We've already seen that we can use a `while <boolean expression>` statement to introduce a block of code that will be repeatedly executed for as long as the boolean expression evaluates as `True`. For example"
   ]
  },
  {
   "cell_type": "code",
   "execution_count": null,
   "metadata": {},
   "outputs": [],
   "source": [
    "x = 0\n",
    "while x < 10:\n",
    "    print(x)\n",
    "    x = x + 1"
   ]
  },
  {
   "cell_type": "markdown",
   "metadata": {},
   "source": [
    "This works as follows. First `x` is set to `0`. The `while` statement includes a condition `x < 10`, which is initially `True`. Because the condition is fulfilled, the computer executes the block inside the `while` construct, `print(x)`, and then updates `x` to `x + 1` i.e., `1`. Then it loops back to the top and test the `x < 10` condition again. Since `x` is still less than `10`, the loop is executed again, this time increasing `x` to `2`. This process repeats until `x` has been updated to equal `10` at which point the condition is no longer true and execution of the loop ends.\n",
    "\n",
    "Make sure you follow this logic before continuing.\n",
    "\n",
    "Other kinds of update are possible, for example"
   ]
  },
  {
   "cell_type": "code",
   "execution_count": null,
   "metadata": {},
   "outputs": [],
   "source": [
    "while x >= 0:\n",
    "    print(x)\n",
    "    x = x - 1"
   ]
  },
  {
   "cell_type": "markdown",
   "metadata": {},
   "source": [
    "We can also include an alternative action for the loop iteration when execution ends:"
   ]
  },
  {
   "cell_type": "code",
   "execution_count": null,
   "metadata": {},
   "outputs": [],
   "source": [
    "x = 10\n",
    "while x >= 0:\n",
    "    print(x)\n",
    "    x = x - 1\n",
    "else:\n",
    "    print('Blast off!')"
   ]
  },
  {
   "cell_type": "markdown",
   "metadata": {},
   "source": [
    "Again, make sure you understand what this is doing."
   ]
  },
  {
   "cell_type": "markdown",
   "metadata": {},
   "source": [
    "### **DANGER! DANGER! DANGER!**\n",
    "A serious issue that can arise in any programming language is a loop that has an end condition that is **never triggered**.  The cell below **won't run** because I have tagged it as 'Raw' which means it is not read as code.  Examine it closely and think about what would happen, if we converted it to a code cell and ran it.\n",
    "\n",
    "```python\n",
    "## Don't run this code!\n",
    "x = 0\n",
    "while x >= 0:\n",
    "    print(x)\n",
    "    x = x + 1\n",
    "```"
   ]
  },
  {
   "cell_type": "markdown",
   "metadata": {},
   "source": [
    "*Infinite loops* like this can be a source of relatively serious bugs, even in simple programs."
   ]
  },
  {
   "cell_type": "markdown",
   "metadata": {},
   "source": [
    "## The `break` statement\n",
    "Another way to exit a `while` loop is the `break` statement. This is useful when you need to keep iterating until some condition is fulfilled that depends on the results of the processing happening inside the loop itself. The examples given in Sections 7.4 and 7.5 of the book are useful. Another example might be reading the contents of a file, which could look like the below:\n",
    "\n",
    "```python\n",
    "while True:\n",
    "    read line from file\n",
    "    if line is <end of file>:\n",
    "        break\n",
    "    do things with the line\n",
    "```"
   ]
  },
  {
   "cell_type": "markdown",
   "metadata": {},
   "source": [
    "This code would keep reading lines from a file (we will see how to do this later) until it encounters a line that is the end of the file, when it will `break` out of the loop."
   ]
  },
  {
   "cell_type": "markdown",
   "metadata": {},
   "source": [
    "## The `for` loop\n",
    "The other **much more widely used** construct for iteration in Python is the `for` statement. This causes iteration over every item in a sequence."
   ]
  },
  {
   "cell_type": "code",
   "execution_count": null,
   "metadata": {},
   "outputs": [],
   "source": [
    "for i in range(10):\n",
    "    print(i)"
   ]
  },
  {
   "cell_type": "code",
   "execution_count": null,
   "metadata": {},
   "outputs": [],
   "source": [
    "for thing in ['a', 'b', [1, 2], 'item']:\n",
    "    print(thing)"
   ]
  },
  {
   "cell_type": "markdown",
   "metadata": {},
   "source": [
    "The sequence can be literally a sequence such as is returned by `range()` or it can be `list` or `string` or `tuple` or any other kind of sequence data type. \n",
    "\n",
    "### Nested loops\n",
    "An important concept here is the possibility of *nested* loops"
   ]
  },
  {
   "cell_type": "code",
   "execution_count": null,
   "metadata": {},
   "outputs": [],
   "source": [
    "for i in range(1, 4):\n",
    "    for j in range(1, 4):\n",
    "        print(f\"{i} times {j} equals {i * j}\")"
   ]
  },
  {
   "cell_type": "markdown",
   "metadata": {},
   "source": [
    "### Getting the index and value at the same time\n",
    "If you come to Python from another language, and you are in a situation where you want the index position and value of the items in a collection at the same time, then you'll be tempted to write code like"
   ]
  },
  {
   "cell_type": "code",
   "execution_count": null,
   "metadata": {},
   "outputs": [],
   "source": [
    "word = \"Wellington\"\n",
    "for i in range(len(word)):\n",
    "    print(f\"Letter at index {i} is {word[i]}\")"
   ]
  },
  {
   "cell_type": "markdown",
   "metadata": {},
   "source": [
    "Much nicer is to use `enumerate`:"
   ]
  },
  {
   "cell_type": "code",
   "execution_count": null,
   "metadata": {},
   "outputs": [],
   "source": [
    "for i, letter in enumerate(word):\n",
    "    print(f\"Letter at index {i} is {letter}\")"
   ]
  },
  {
   "cell_type": "markdown",
   "metadata": {},
   "source": [
    "## Comprehensions\n",
    "This is a slightly more advanced topic, but is so useful and so widely used, it would be a bad idea to skip it, even at this stage.\n",
    "\n",
    "When you are starting out, it is common to write code like this:"
   ]
  },
  {
   "cell_type": "code",
   "execution_count": null,
   "metadata": {},
   "outputs": [],
   "source": [
    "numbers = []\n",
    "for i in range(10):\n",
    "    numbers.append(i)\n",
    "numbers"
   ]
  },
  {
   "cell_type": "markdown",
   "metadata": {},
   "source": [
    "That can get quite tedious after a while. Less typing is involved using a list comprehension:"
   ]
  },
  {
   "cell_type": "code",
   "execution_count": null,
   "metadata": {},
   "outputs": [],
   "source": [
    "numbers = [i for i in range(10)]\n",
    "numbers"
   ]
  },
  {
   "cell_type": "markdown",
   "metadata": {},
   "source": [
    "This is even more compact if you want to apply simple functions in items in a list. So say you want another list of the values in `numbers` squared. A conventional for loop approach would be"
   ]
  },
  {
   "cell_type": "code",
   "execution_count": null,
   "metadata": {},
   "outputs": [],
   "source": [
    "squares = []\n",
    "for x in numbers:\n",
    "    squares.append(x ** 2)\n",
    "squares"
   ]
  },
  {
   "cell_type": "markdown",
   "metadata": {},
   "source": [
    "With a list comprehension this becomes"
   ]
  },
  {
   "cell_type": "code",
   "execution_count": null,
   "metadata": {},
   "outputs": [],
   "source": [
    "squares = [x ** 2 for x in numbers]\n",
    "squares"
   ]
  },
  {
   "cell_type": "markdown",
   "metadata": {},
   "source": [
    "Here are a couple more examples, one of which filters the values in the list, and the other combining two lists."
   ]
  },
  {
   "cell_type": "code",
   "execution_count": null,
   "metadata": {},
   "outputs": [],
   "source": [
    "evens = [x for x in squares if x % 2 == 0]\n",
    "cubes = [x * y for x, y in zip(numbers, squares)]\n",
    "\n",
    "print(f\"{evens = }\")\n",
    "print(f\"{cubes = }\")"
   ]
  },
  {
   "cell_type": "markdown",
   "metadata": {},
   "source": [
    "You can even nest comprehensions."
   ]
  },
  {
   "cell_type": "code",
   "execution_count": null,
   "metadata": {},
   "outputs": [],
   "source": [
    "[x * y for x in range(1, 5) \n",
    "       for y in range(1, 5)]"
   ]
  },
  {
   "cell_type": "markdown",
   "metadata": {},
   "source": [
    "This approach can give us very compact and (once you get used to it) very readable, elegant code. The main problem is that it is a little difficult to follow as a beginner. I may use this method a little in the remaining notebooks, especially for filtering where it is particularly helpful, since\n",
    "\n",
    "```python\n",
    "filtered_list = [x for x in lst if <some condition>]\n",
    "```\n",
    "\n",
    "is so much more compact than\n",
    "\n",
    "```python\n",
    "filtered_list = []\n",
    "for x in lst:\n",
    "    if <some condition>:\n",
    "        filtered_list.append(x)\n",
    "```"
   ]
  }
 ],
 "metadata": {
  "kernelspec": {
   "display_name": "intro-python-1",
   "language": "python",
   "name": "python3"
  },
  "language_info": {
   "codemirror_mode": {
    "name": "ipython",
    "version": 3
   },
   "file_extension": ".py",
   "mimetype": "text/x-python",
   "name": "python",
   "nbconvert_exporter": "python",
   "pygments_lexer": "ipython3",
   "version": "3.11.13"
  }
 },
 "nbformat": 4,
 "nbformat_minor": 4
}
