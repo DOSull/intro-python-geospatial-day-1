{
 "cells": [
  {
   "cell_type": "markdown",
   "metadata": {
    "tags": []
   },
   "source": [
    "# Dictionaries\n",
    "The `dict` or *dictionary* type is a very useful kind of collection in Python, which stores *values* indexed by *keys*. It is a *mapping* from the keys to the values.\n",
    "\n",
    "An empty dictionary can be made in one of two ways either by invoking `dict()` or with empty 'curly' brackets `{}`"
   ]
  },
  {
   "cell_type": "code",
   "execution_count": null,
   "metadata": {
    "tags": []
   },
   "outputs": [],
   "source": [
    "eng_tereo = dict()\n",
    "tereo_eng = {}"
   ]
  },
  {
   "cell_type": "markdown",
   "metadata": {},
   "source": [
    "We can add items to an empty dictionary like this"
   ]
  },
  {
   "cell_type": "code",
   "execution_count": null,
   "metadata": {},
   "outputs": [],
   "source": [
    "eng_tereo['hello'] = 'kia ora'\n",
    "tereo_eng['kia ora'] = 'hello'"
   ]
  },
  {
   "cell_type": "markdown",
   "metadata": {},
   "source": [
    "The values in the square brackets here are the *keys*, while the values assigned are the *values* associated with those keys. We can retrieve them like this:"
   ]
  },
  {
   "cell_type": "code",
   "execution_count": null,
   "metadata": {},
   "outputs": [],
   "source": [
    "eng_tereo['hello']"
   ]
  },
  {
   "cell_type": "markdown",
   "metadata": {
    "tags": []
   },
   "source": [
    "### A brief digression\n",
    "Add another word"
   ]
  },
  {
   "cell_type": "code",
   "execution_count": null,
   "metadata": {},
   "outputs": [],
   "source": [
    "eng_tereo['world'] = 'ao tūroa'"
   ]
  },
  {
   "cell_type": "markdown",
   "metadata": {},
   "source": [
    "Make a little function"
   ]
  },
  {
   "cell_type": "code",
   "execution_count": null,
   "metadata": {},
   "outputs": [],
   "source": [
    "def speak_tereo(words):\n",
    "    tereo_words = []\n",
    "    for word in words.split():\n",
    "        tereo_words.append(eng_tereo[word])\n",
    "    print(' '.join(tereo_words))"
   ]
  },
  {
   "cell_type": "markdown",
   "metadata": {},
   "source": [
    "And now we can do this"
   ]
  },
  {
   "cell_type": "code",
   "execution_count": null,
   "metadata": {},
   "outputs": [],
   "source": [
    "speak_tereo(\"hello world\")"
   ]
  },
  {
   "cell_type": "markdown",
   "metadata": {},
   "source": [
    "\\[Translation is obviously way more complicated than simple word substitution, but I hope this is instructive...\\]"
   ]
  },
  {
   "cell_type": "markdown",
   "metadata": {
    "tags": []
   },
   "source": [
    "## OK... back in the room\n",
    "In dictionaries, keys and values can be almost anything, provided the keys are *immutable*. We've already seen that lists are mutable, so they can't be used as keys, but _tuples_ can. Strings are also fine as dictionary keys, as are integers. \n",
    "\n",
    "You can also use floats, but have to be careful about this, because two values that _seem_ the same or seem like they _should_ be the same might not be _exactly_ the same. Here's an example of that problem"
   ]
  },
  {
   "cell_type": "code",
   "execution_count": null,
   "metadata": {},
   "outputs": [],
   "source": [
    "(2.54 * 1.0) / 2.54 == 2.54 * (1.0 / 2.54)"
   ]
  },
  {
   "cell_type": "markdown",
   "metadata": {},
   "source": [
    "Without getting into the details of why, I'd recommend against using floating point numbers as keys in a dictionary, if you have a choice. In the same vein, if you are using strings as dictionary keys, it's advisable to be clear on whether the strings are capitalised, upper case, or lower case, etc., since Python regards `\"Hello\"` an `\"hello\"` as different values."
   ]
  },
  {
   "cell_type": "code",
   "execution_count": null,
   "metadata": {
    "tags": [
     "raises-exception"
    ]
   },
   "outputs": [],
   "source": [
    "eng_tereo[\"hello\"], eng_tereo[\"Hello\"]"
   ]
  },
  {
   "cell_type": "markdown",
   "metadata": {},
   "source": [
    "Anyway, those caveats aside, you shouldn't find any of this too much of a problem. _Any_ string or _any_ integer, or _any_ `tuple` consisting of some combination of these gives you many options for the keys you can use to index values in a dictionary!"
   ]
  },
  {
   "cell_type": "markdown",
   "metadata": {},
   "source": [
    "### Some basics\n",
    "We make an empty dictionary with curly brackets, or with the `dict()` function. We can initialise it with some key-value pairs like this"
   ]
  },
  {
   "cell_type": "code",
   "execution_count": null,
   "metadata": {},
   "outputs": [],
   "source": [
    "my_dict = {\"one\": 1, \"two\": 2, \"three\": 3}"
   ]
  },
  {
   "cell_type": "markdown",
   "metadata": {},
   "source": [
    "We can initialise a dictionary from two lists or two tuples (or any pair of iterable objects of the same lengths). As an example, we can use `enumerate` to make a dictionary that indexes each element by its index position."
   ]
  },
  {
   "cell_type": "code",
   "execution_count": null,
   "metadata": {},
   "outputs": [],
   "source": [
    "word = list(\"dictionary\")\n",
    "letters = dict(enumerate(word))\n",
    "letters"
   ]
  },
  {
   "cell_type": "markdown",
   "metadata": {},
   "source": [
    "Another option is to use the `zip()` function to 'zip' two equal length sequences into a set of key-value pairs in a dictionary."
   ]
  },
  {
   "cell_type": "code",
   "execution_count": null,
   "metadata": {},
   "outputs": [],
   "source": [
    "dict(zip(range(len(word)), word))  # remember: a string is a sequence!"
   ]
  },
  {
   "cell_type": "markdown",
   "metadata": {},
   "source": [
    "We can also use the _comprehension_ approach that we saw with lists to build a dictionary: "
   ]
  },
  {
   "cell_type": "code",
   "execution_count": null,
   "metadata": {},
   "outputs": [],
   "source": [
    "squares = {x: x ** 2 for x in range(100)}\n",
    "squares"
   ]
  },
  {
   "cell_type": "markdown",
   "metadata": {},
   "source": [
    "Slightly confusingly, iterating over a dictionary with a for loop will return the _keys_ (not the values):"
   ]
  },
  {
   "cell_type": "code",
   "execution_count": null,
   "metadata": {},
   "outputs": [],
   "source": [
    "for k in letters:\n",
    "    print(k)"
   ]
  },
  {
   "cell_type": "markdown",
   "metadata": {},
   "source": [
    "If you want the values, use `.values()`; if you want the key-value pairs use `.items()`:"
   ]
  },
  {
   "cell_type": "code",
   "execution_count": null,
   "metadata": {},
   "outputs": [],
   "source": [
    "for v in letters.values():\n",
    "    print(v)"
   ]
  },
  {
   "cell_type": "code",
   "execution_count": null,
   "metadata": {},
   "outputs": [],
   "source": [
    "for k, v in letters.items():\n",
    "    print(f\"value at key {k} is {v}\")"
   ]
  },
  {
   "cell_type": "markdown",
   "metadata": {},
   "source": [
    "## Using a dictionary to count things\n",
    "In addition to the 'translation' kind of functionality we've just seen they can be used to count things.\n",
    "\n",
    "For example, make a list of 10000 random numbers (although to save space, just look at the first 20 values). We can do this with the `random.randint()` function."
   ]
  },
  {
   "cell_type": "code",
   "execution_count": null,
   "metadata": {},
   "outputs": [],
   "source": [
    "import random\n",
    "die_rolls = []\n",
    "for i in range(10000):\n",
    "    die_rolls.append(random.randint(1, 6))\n",
    "die_rolls[:20]"
   ]
  },
  {
   "cell_type": "markdown",
   "metadata": {},
   "source": [
    "How could we count the number of occurrences of each die roll in this list? One way would be to make a new list, like this"
   ]
  },
  {
   "cell_type": "code",
   "execution_count": null,
   "metadata": {},
   "outputs": [],
   "source": [
    "counts = [0] * 6\n",
    "counts"
   ]
  },
  {
   "cell_type": "markdown",
   "metadata": {},
   "source": [
    "Then we can go through the list of numbers like this (but note that because list indexes start at 0, we have to be careful to subtract 1 from the index when we do the counting)."
   ]
  },
  {
   "cell_type": "code",
   "execution_count": null,
   "metadata": {},
   "outputs": [],
   "source": [
    "for roll in die_rolls:\n",
    "    counts[roll - 1] = counts[roll - 1] + 1"
   ]
  },
  {
   "cell_type": "markdown",
   "metadata": {},
   "source": [
    "And now print it"
   ]
  },
  {
   "cell_type": "code",
   "execution_count": null,
   "metadata": {},
   "outputs": [],
   "source": [
    "# Note using an enumerate here\n",
    "# and again, we have to remember the offset due to 0-indexing\n",
    "for number, count in enumerate(counts):\n",
    "    print(f\"{count} {number + 1}'s in the list\")"
   ]
  },
  {
   "cell_type": "markdown",
   "metadata": {},
   "source": [
    "That works OK, but that 0-offsetting thing is annoying and what if the numbers we were counting were in a different range? Say they were not 1 to 6, but 50 to 100 (maybe they are are scores on a test)? Or might be 0, or some number between 1000 and 10000 with lots of gaps (say the populations of census areas)? \n",
    "\n",
    "Then, we would have to know in advance something about what is in the list of numbers to set up our list of counting bins appropriately and change the code accordingly. You can give it a try below"
   ]
  },
  {
   "cell_type": "code",
   "execution_count": null,
   "metadata": {},
   "outputs": [],
   "source": [
    "possible_numbers = [0] + list(range(1000, 10001))\n",
    "numbers = random.choices(possible_numbers, k = 1000)\n",
    "\n",
    "# write some code to assemble these counts into a list..."
   ]
  },
  {
   "cell_type": "markdown",
   "metadata": {},
   "source": [
    "Not so easy... and in fact... a dictionary does exactly what we need! \n",
    "\n",
    "With a dictionary it is straightforward."
   ]
  },
  {
   "cell_type": "code",
   "execution_count": null,
   "metadata": {},
   "outputs": [],
   "source": [
    "counts = {}\n",
    "for n in numbers:\n",
    "    if n in counts:\n",
    "        counts[n] = counts[n] + 1\n",
    "    else:\n",
    "        counts[n] = 1\n",
    "counts"
   ]
  },
  {
   "cell_type": "markdown",
   "metadata": {},
   "source": [
    "The only issue with this approach is that the counts are not ordered, but that is easy to fix as we have done below with a `sorted` function call (and it might not even matter that much). "
   ]
  },
  {
   "cell_type": "code",
   "execution_count": null,
   "metadata": {},
   "outputs": [],
   "source": [
    "for number, count in sorted(counts.items()):\n",
    "    print(f\"{count} {number}'s in the list\")"
   ]
  },
  {
   "cell_type": "markdown",
   "metadata": {},
   "source": [
    "The key difference in using the dictionary, is that it only makes a counter for a particular number, *if it is needed*.\n",
    "\n",
    "Also... because a dictionary can use more or less anything as a key, we can use **exactly the same code** to count the letters in a word or sentence."
   ]
  },
  {
   "cell_type": "code",
   "execution_count": null,
   "metadata": {},
   "outputs": [],
   "source": [
    "def count_occurrences(sequence):\n",
    "    counts = {}\n",
    "    for s in sequence:\n",
    "        if s in counts:\n",
    "            counts[s] = counts[s] + 1\n",
    "        else:\n",
    "            counts[s] = 1\n",
    "    return counts\n",
    "\n",
    "count_occurrences(\"Dictionaries are cool\")"
   ]
  },
  {
   "cell_type": "markdown",
   "metadata": {},
   "source": [
    "In fact, the above function is so flexible it can be used to count numbers in a list as well! (Try it.)"
   ]
  },
  {
   "cell_type": "markdown",
   "metadata": {
    "tags": []
   },
   "source": [
    "## The many uses of dictionaries\n",
    "We've already seen two uses for dictionaries: translations (mappings) and counting things. Dictionaries are a tremendously useful *data structure* that can be used in all kinds of situations. Another use is _memoizing_ known results of a function to make it more efficient.\n",
    "\n",
    "This can arise in any situation where a function is used to repeatedly calculate values and it might often be called on to calculate the same value. If the calculation is expensive, then it's a good idea to store already calculated values and return them, rather than redo the calculation.\n",
    "\n",
    "A good example of this is a recursive function, which calls itself repeatedly. A classic example of this is a function to calculate _Fibonacci numbers_. These are numbers in the series, 1, 1, 2, 3, 5, 8, 13, ... and so on, where the next number in the series each time is the sum of the previous two and we set things running starting with 1, 1."
   ]
  },
  {
   "cell_type": "code",
   "execution_count": null,
   "metadata": {},
   "outputs": [],
   "source": [
    "# Recursive function to calculate Fibonacci numbers\n",
    "# Take care! This will break if n is negative, or a float!\n",
    "def fib(n, debug = False):\n",
    "    if n > 30:\n",
    "        print(\"Seriously, you really don't want to do that\")\n",
    "        return None\n",
    "    # if input is 0, result is 0\n",
    "    if n == 0:\n",
    "        if debug: \n",
    "            print(\"getting fib(0)\")\n",
    "        return 0\n",
    "    # if input is 1 result is 1\n",
    "    if n == 1:\n",
    "        if debug: \n",
    "            print(\"getting fib(1)\")\n",
    "        return 1\n",
    "    # otherwise the result is the sum of \n",
    "    # the previous two entries\n",
    "    return fib(n - 1, debug) + fib(n - 2, debug)"
   ]
  },
  {
   "cell_type": "markdown",
   "metadata": {},
   "source": [
    "This works OK for fairly small values of `n`"
   ]
  },
  {
   "cell_type": "code",
   "execution_count": null,
   "metadata": {},
   "outputs": [],
   "source": [
    "fib(5, True)"
   ]
  },
  {
   "cell_type": "markdown",
   "metadata": {},
   "source": [
    "But there is a problem, which you can see because of the *debugging code* I put in to tell us every time we are calculating a result for `fib(0)` or `fib(1)`. The problem is that we are repeatedly getting results we already know.\n",
    "\n",
    "You can see how much of a problem this is by running the cell below. After you have run it, try it again for 25. If that's OK, try 30. Then, I recommend commenting the code below out, so you don't accidentally run it again..."
   ]
  },
  {
   "cell_type": "code",
   "execution_count": null,
   "metadata": {},
   "outputs": [],
   "source": [
    "fib(20, debug = True)"
   ]
  },
  {
   "cell_type": "markdown",
   "metadata": {},
   "source": [
    "Using a dictionary, we can make this code *much more efficient* by storing intermediate values as we go and using those if we already know them.  Here's a better Fibonacci function."
   ]
  },
  {
   "cell_type": "code",
   "execution_count": null,
   "metadata": {},
   "outputs": [],
   "source": [
    "# Recursive function to calculate Fibonacci numbers\n",
    "# using a dictionary to remember known results\n",
    "known_fib = {0:0, 1:1}\n",
    "def fib2(n, debug = False):\n",
    "    if (n == 0 or n == 1) and debug: \n",
    "        print(f\"getting fib2({n})\")\n",
    "    if n in known_fib:\n",
    "        return known_fib[n]\n",
    "    # otherwise the result is the sum of previous two entries\n",
    "    result = fib2(n - 1, debug) + fib2(n - 2, debug)\n",
    "    # and we store it in the dictionary of known results\n",
    "    known_fib[n] = result\n",
    "    return result\n",
    "\n",
    "fib2(500, debug = True)"
   ]
  },
  {
   "cell_type": "markdown",
   "metadata": {},
   "source": [
    "\\[You don't even want to think about how long the first version of this function would take to run for an input of 500... **don't** try it!\\]"
   ]
  },
  {
   "cell_type": "markdown",
   "metadata": {},
   "source": [
    "\n",
    "This is a good example of how we need to use program code **in conjunction with appropriate and well chosen data structures** to efficiently solve programming problems, and is something we will try to look at it in the next couple of weeks. An ability to do this is partly experience, but it is also something that can be learned. An alternative is to use well designed modules written by others to solve problems which is what gets us into APIs, another topic for the coming weeks."
   ]
  },
  {
   "cell_type": "markdown",
   "metadata": {
    "tags": []
   },
   "source": [
    "### By the way...\n",
    "It is worth knowing that there is a module (non-standard, so it has to be installed) for handling memoizing, called `cachetools`. You can find out more about it [here](https://pypi.org/project/cachetools/)."
   ]
  },
  {
   "cell_type": "code",
   "execution_count": null,
   "metadata": {
    "tags": []
   },
   "outputs": [],
   "source": [
    "pip install cachetools"
   ]
  },
  {
   "cell_type": "code",
   "execution_count": null,
   "metadata": {},
   "outputs": [],
   "source": [
    "from cachetools import cached\n",
    "\n",
    "@cached(cache={})\n",
    "def fib3(n):\n",
    "    return n if n < 2 else fib3(n - 1) + fib3(n - 2) # Be careful to call fib3!\n",
    "\n",
    "fib3(500)"
   ]
  }
 ],
 "metadata": {
  "kernelspec": {
   "display_name": "intro-python",
   "language": "python",
   "name": "python3"
  },
  "language_info": {
   "codemirror_mode": {
    "name": "ipython",
    "version": 3
   },
   "file_extension": ".py",
   "mimetype": "text/x-python",
   "name": "python",
   "nbconvert_exporter": "python",
   "pygments_lexer": "ipython3",
   "version": "3.12.9"
  }
 },
 "nbformat": 4,
 "nbformat_minor": 4
}
