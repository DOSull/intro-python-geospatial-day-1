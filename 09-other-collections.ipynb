{
 "cells": [
  {
   "cell_type": "markdown",
   "metadata": {
    "tags": []
   },
   "source": [
    "# Other collections: `set`, `defaultdict`, and `namedtuple`\n",
    "You don't really need anything more than we have already covered to address a very wide range of practical programming challenges. It's still useful to know about some other collection types that Python provides, that can make your life easier."
   ]
  },
  {
   "cell_type": "markdown",
   "metadata": {},
   "source": [
    "## `set`\n",
    "A set is a special kind of collection that can only contain one of each item added to it. Sets are really useful for removing duplicate entries from collections, which is probably the situation I use them in most often. You can initialise a set with curly brackets, like a dictionary, but that's confusing, so better to use `set()`."
   ]
  },
  {
   "cell_type": "code",
   "execution_count": null,
   "metadata": {},
   "outputs": [],
   "source": [
    "s = set()\n",
    "for letter in list(\"alphabet\"):\n",
    "    print(f\"Adding {letter} to the set\")\n",
    "    s.add(letter)\n",
    "print(s)"
   ]
  },
  {
   "cell_type": "markdown",
   "metadata": {},
   "source": [
    "Two things to notice here. The things are not stored in the order you added them. And... there is only one of each: there is only one `\"a\"`, but we added `\"a\"` twice.\n",
    "\n",
    "If you are familiar with set theory in mathematics, you can perform `union` and `intersection` operations on sets."
   ]
  },
  {
   "cell_type": "code",
   "execution_count": null,
   "metadata": {},
   "outputs": [],
   "source": [
    "s1 = set(\"alphabet\")\n",
    "s2 = set(\"dictionary\")\n",
    "s1.union(s2), s1.intersection(s2)"
   ]
  },
  {
   "cell_type": "markdown",
   "metadata": {},
   "source": [
    "I don't have any more to say about the `set` data type. It's just a useful thing to know about."
   ]
  },
  {
   "cell_type": "markdown",
   "metadata": {},
   "source": [
    "## `defaultdict`\n",
    "It's not unusual when working with dictionaries to have code like this\n",
    "\n",
    "```python\n",
    "if not k in my_dictionary:\n",
    "    my_dictionary[k] = [v]\n",
    "else:\n",
    "    my_dictionary[k] = my_dictionary[k].append(v)\n",
    "```\n",
    "\n",
    "In other words, if there is no entry in the dictionary for a particular key then we have to initialise that dictionary item, and the behaviour is different if there is already an entry at that key. This is a common enough pattern, that a special type of dictionary, `defaultdict` in the `collections` module is provided to handle.\n",
    "\n",
    "We can see its usefulness in the item counting problem shown in the [dictionaries notebook](04-dictionaries.ipynb)."
   ]
  },
  {
   "cell_type": "code",
   "execution_count": null,
   "metadata": {},
   "outputs": [],
   "source": [
    "import random\n",
    "from collections import defaultdict\n",
    "\n",
    "counts = defaultdict(int)\n",
    "\n",
    "def count_occurrences(collection):\n",
    "    for x in collection:\n",
    "        counts[x] = counts[x] + 1\n",
    "\n",
    "die_rolls = random.choices(range(1, 7), k = 10000)\n",
    "count_occurrences(die_rolls)\n",
    "counts"
   ]
  },
  {
   "cell_type": "markdown",
   "metadata": {},
   "source": [
    "Another example where this might be useful is inverting a dictionary."
   ]
  },
  {
   "cell_type": "code",
   "execution_count": null,
   "metadata": {},
   "outputs": [],
   "source": [
    "welly_dict = dict(enumerate(\"wellington\"))\n",
    "inverse_welly_dict = {}\n",
    "for k, v in welly_dict.items():\n",
    "    inverse_welly_dict[v] = k\n",
    "inverse_welly_dict"
   ]
  },
  {
   "cell_type": "markdown",
   "metadata": {},
   "source": [
    "Only the last instance of each letter has its index position stored in the inverted dictionary. Instead, we can do this"
   ]
  },
  {
   "cell_type": "code",
   "execution_count": null,
   "metadata": {},
   "outputs": [],
   "source": [
    "inverse_welly_dict = defaultdict(list)\n",
    "for k, v in welly_dict.items():\n",
    "    inverse_welly_dict[v].append(k)\n",
    "inverse_welly_dict"
   ]
  },
  {
   "cell_type": "markdown",
   "metadata": {},
   "source": [
    "## `namedtuple`\n",
    "You won't know it yet, but often you will find yourself using a `tuple` (or even a `list`) to store several items of data, and relying on remembering which one is which. A common example is using a tuple to store a coordinate pair. This leads to code like this\n",
    "\n"
   ]
  },
  {
   "cell_type": "code",
   "execution_count": null,
   "metadata": {},
   "outputs": [],
   "source": [
    "import math\n",
    "\n",
    "point_1 = (0, 0)\n",
    "point_2 = (3, 4)\n",
    "\n",
    "def distance(p1, p2):\n",
    "    return math.sqrt((p1[0] - p2[0]) ** 2 + (p1[1] - p2[1]) ** 2)\n",
    "\n",
    "distance(point_1, point_2)"
   ]
  },
  {
   "cell_type": "markdown",
   "metadata": {},
   "source": [
    "Nothing wrong with that... it works fine. But it relies on you remembering which element in each tuple is which. Much nicer, even in a small snippet like this is a `namedtuple`."
   ]
  },
  {
   "cell_type": "code",
   "execution_count": null,
   "metadata": {},
   "outputs": [],
   "source": [
    "from collections import namedtuple\n",
    "\n",
    "Point = namedtuple(\"Point\", [\"x\", \"y\"])\n",
    "point_1 = Point(0, 0)\n",
    "point_2 = Point(3, 4)\n",
    "\n",
    "def distance(p1, p2):\n",
    "    return math.sqrt((p1.x - p2.x) ** 2 + (p1.y - p2.y) ** 2)\n",
    "\n",
    "distance(point_1, point_2)"
   ]
  },
  {
   "cell_type": "markdown",
   "metadata": {},
   "source": [
    "You can even convert `namedtuple` objects to dictionaries"
   ]
  },
  {
   "cell_type": "code",
   "execution_count": null,
   "metadata": {},
   "outputs": [],
   "source": [
    "point_1._asdict()"
   ]
  },
  {
   "cell_type": "markdown",
   "metadata": {},
   "source": [
    "The point is that there is a lot of overhead associated with the complexities of a dictionary. Sometimes you just need a convenient way to wrap some data up in a little bundle as a single item. Tuples are ideal for that, and a `namedtuple` is nicer because it is self-documenting making your code easier to read and understand.\n",
    "\n",
    "Named tuples are a first step on the way to _object-oriented programming_, but they are 'data only' objects. Perhaps in a future course we will be able to explore that more advanced topic."
   ]
  }
 ],
 "metadata": {
  "kernelspec": {
   "display_name": "intro-python-1",
   "language": "python",
   "name": "python3"
  },
  "language_info": {
   "codemirror_mode": {
    "name": "ipython",
    "version": 3
   },
   "file_extension": ".py",
   "mimetype": "text/x-python",
   "name": "python",
   "nbconvert_exporter": "python",
   "pygments_lexer": "ipython3",
   "version": "3.11.13"
  }
 },
 "nbformat": 4,
 "nbformat_minor": 4
}
