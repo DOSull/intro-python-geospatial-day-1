{
 "cells": [
  {
   "cell_type": "markdown",
   "id": "b40f18fe",
   "metadata": {},
   "source": [
    "# Navigating your computer\n",
    "One of the most immediately useful things you can do having learned a little Python is renaming and reorganising files programmatically. The kind of things that sysadmin superuser types do using batchfiles and shell-scripts can be easily accomplished with simple Python code using loops, lists, and a couple of key modules, namely `os` and `shutil`."
   ]
  },
  {
   "cell_type": "code",
   "execution_count": null,
   "id": "de0aa76c",
   "metadata": {},
   "outputs": [],
   "source": [
    "import os\n",
    "import os.path\n",
    "import shutil"
   ]
  },
  {
   "cell_type": "markdown",
   "id": "2c8c4d67",
   "metadata": {},
   "source": [
    "We can get the current directory and a directory listing."
   ]
  },
  {
   "cell_type": "code",
   "execution_count": null,
   "id": "209bb564",
   "metadata": {},
   "outputs": [],
   "source": [
    "os.getcwd(), os.listdir()"
   ]
  },
  {
   "cell_type": "markdown",
   "id": "758a9359",
   "metadata": {},
   "source": [
    "Say we wanted to rename all the CSV files to TXT files, and change hyphens to underscores. This is actually a 'move' operation."
   ]
  },
  {
   "cell_type": "code",
   "execution_count": null,
   "id": "72320c09",
   "metadata": {},
   "outputs": [],
   "source": [
    "for item in os.listdir():\n",
    "    if item.endswith(\".csv\"):\n",
    "        shutil.move(item, item.replace(\"csv\", \"txt\").replace(\"-\", \"_\"))"
   ]
  },
  {
   "cell_type": "markdown",
   "id": "7165ab6c",
   "metadata": {},
   "source": [
    "Or maybe we want to rename it back to a CSV and change back to hyphens, but this time keep the original. That's a copy operation."
   ]
  },
  {
   "cell_type": "code",
   "execution_count": null,
   "id": "54c8aadc",
   "metadata": {},
   "outputs": [],
   "source": [
    "for item in os.listdir():\n",
    "    if item.endswith(\".txt\"):\n",
    "        shutil.copy(item, item.replace(\"txt\", \"csv\").replace(\"_\", \"-\"))"
   ]
  },
  {
   "cell_type": "markdown",
   "id": "d9a67ed3",
   "metadata": {},
   "source": [
    "The point here is you could run this on a folder with a hundred or a thousand files in it. [With great power comes great responsibility...]"
   ]
  },
  {
   "cell_type": "markdown",
   "id": "a4f46f9b",
   "metadata": {},
   "source": [
    "## `os.path`"
   ]
  },
  {
   "cell_type": "code",
   "execution_count": null,
   "id": "4bf0c04c",
   "metadata": {},
   "outputs": [],
   "source": [
    "for item in os.listdir():\n",
    "    print(os.path.abspath(item))\n",
    "    print(os.path.basename(item))\n",
    "    print(os.path.split(item))\n",
    "    print(os.path.splitext(item))"
   ]
  }
 ],
 "metadata": {
  "kernelspec": {
   "display_name": "intro-python-2",
   "language": "python",
   "name": "python3"
  },
  "language_info": {
   "codemirror_mode": {
    "name": "ipython",
    "version": 3
   },
   "file_extension": ".py",
   "mimetype": "text/x-python",
   "name": "python",
   "nbconvert_exporter": "python",
   "pygments_lexer": "ipython3",
   "version": "3.11.6"
  }
 },
 "nbformat": 4,
 "nbformat_minor": 5
}
