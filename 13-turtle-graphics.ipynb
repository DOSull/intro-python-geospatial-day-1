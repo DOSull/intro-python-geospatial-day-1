{
 "cells": [
  {
   "cell_type": "markdown",
   "id": "b40f18fe",
   "metadata": {},
   "source": [
    "# Turtles all the way down!\n",
    "This notebook uses a notebook-friendly implementation of core elements of the [Python `turtle` module](https://docs.python.org/3/library/turtle.html) to encourage you to explore simple iteration and function building. The re-implementation is rather limited - it only really supports the basic pen-up, pen-down, forward, right, left operations. But that's enough to make some fun pictures.\n",
    "\n",
    "I downloaded the `jupyturtle.py` file that contains the relevant functions from [this repository](https://github.com/fluentpython/jupyturtle2), so that I could make some tweaks for our purposes&mdash;minor things like a larger canvas, finer pen, and such like. Full credit to [Luciano Ramalho](https://github.com/fluentpython) (see also https://www.thoughtworks.com/profiles/l/luciano-ramalho) for development of the module. An earlier version of the module is available for pip installation, but doesn't seem to allow for the minor tweaks I wanted.\n",
    "\n",
    "Because it's not provided in the module, and it's handy to have, I've added a `jump_to()` function which let's you pick the turtle up and drop it a new spot, which you might find useful. You can also use this to figure out how the coordinates of the turtle space are organised."
   ]
  },
  {
   "cell_type": "code",
   "execution_count": null,
   "id": "de0aa76c",
   "metadata": {},
   "outputs": [],
   "source": [
    "import random\n",
    "import jupyturtle\n",
    "\n",
    "# you can tweak these if you like (allowed colours are \n",
    "# named web colours, see https://www.w3schools.com/colors/colors_names.asp\n",
    "# or #ab0347 style RGB colours\n",
    "jupyturtle.PEN_COLOR = \"firebrick\"\n",
    "jupyturtle.PEN_WIDTH = 1\n",
    "jupyturtle.CANVAS_WIDTH = 500\n",
    "jupyturtle.CANVAS_HEIGHT = 500\n",
    "jupyturtle.CANVAS_BGCOLOR = \"silver\"\n",
    "\n",
    "# There are other tweakable settings in the source file, if you check it out.\n",
    "# Just access them in the same way as above.\n",
    "\n",
    "def jump_to(t, x, y):\n",
    "    \"\"\"Jumps turtle t to coordinates x, y (no drawing).\n",
    "    \n",
    "    Args:\n",
    "        t: the turtle to move.\n",
    "        x: the x coordinate to move to.\n",
    "        y: the y coordinate to move to.\n",
    "    \n",
    "    Returns:\n",
    "        None\n",
    "    \"\"\"\n",
    "    t.position = t.position.translated(x - t.position.x, y - t.position.y)\n",
    "    t.draw()"
   ]
  },
  {
   "cell_type": "markdown",
   "id": "1932377f",
   "metadata": {},
   "source": [
    "[Turtle graphics](https://en.wikipedia.org/wiki/Turtle_graphics) is an approach to drawing geometric shapes that involves instructing a turtle with a pen to move around the screen, by issuing commands like `forward(distance)`, `left(angle)`, `right(angle)`, and so on. To get started, we get ourselves a turtle, who we will refer to by the name `tash`."
   ]
  },
  {
   "cell_type": "code",
   "execution_count": null,
   "id": "3f901e1e",
   "metadata": {},
   "outputs": [],
   "source": [
    "tash = jupyturtle.Turtle(delay = 0.02)"
   ]
  },
  {
   "cell_type": "markdown",
   "id": "9628df84",
   "metadata": {},
   "source": [
    "By default `tash`'s 'pen' is 'down' so if we ask `tash` to move around, they will draw a shape. Here's a square."
   ]
  },
  {
   "cell_type": "code",
   "execution_count": null,
   "id": "eaae11d4",
   "metadata": {},
   "outputs": [],
   "source": [
    "for i in range(4):\n",
    "    tash.forward(100)\n",
    "    tash.left(90)"
   ]
  },
  {
   "cell_type": "markdown",
   "id": "858eab2d",
   "metadata": {},
   "source": [
    "And here's a random walk"
   ]
  },
  {
   "cell_type": "code",
   "execution_count": null,
   "id": "2d6eecf3",
   "metadata": {},
   "outputs": [],
   "source": [
    "for i in range(100):\n",
    "    tash.heading = random.random() * 360\n",
    "    tash.forward(10)"
   ]
  },
  {
   "cell_type": "markdown",
   "id": "03c05339",
   "metadata": {},
   "source": [
    "Here's a different kind of random walk. Notice how in this case, I've made _helper functions_ to do a relatively simple subsidiary task (what?) and keep my main code clear."
   ]
  },
  {
   "cell_type": "code",
   "execution_count": null,
   "id": "4ae807b6",
   "metadata": {},
   "outputs": [],
   "source": [
    "def is_between(x, min_x, max_x):\n",
    "    return x >= min_x and x <= max_x\n",
    "\n",
    "def wrap_around(x, min_x, max_x):\n",
    "    if x < min_x:\n",
    "        return max_x + x - min_x\n",
    "    if x > max_x:\n",
    "        return min_x + x - max_x\n",
    "    return x\n",
    "\n",
    "for i in range(100):\n",
    "    tash.left(random.randint(-45, 45))\n",
    "    tash.forward(10)\n",
    "    x, y = tash.position.x, tash.position.y\n",
    "    if not (is_between(x, 0, jupyturtle.CANVAS_WIDTH) and \n",
    "            is_between(y, 0, jupyturtle.CANVAS_HEIGHT)): \n",
    "        jump_to(tash,\n",
    "                wrap_around(tash.position.x, 0, jupyturtle.CANVAS_WIDTH),\n",
    "                wrap_around(tash.position.y, 0, jupyturtle.CANVAS_HEIGHT)) "
   ]
  },
  {
   "cell_type": "markdown",
   "id": "eff3f394",
   "metadata": {},
   "source": [
    "OK. You can experiment in the cells above with issuing instructions to `tash` (you can also get them to move around and not draw by issuing a `penup()` instruction, but don't forget to issue the `pendown()` instruction when you want the drawing to start again.)\n",
    "\n",
    "To clear the drawing just go back to the cell where `tash` was initialised and start over.\n"
   ]
  },
  {
   "cell_type": "markdown",
   "id": "5cd81ec4",
   "metadata": {},
   "source": [
    "## 'Homework'\n",
    "Set yourself a challenge to make a repetitive pattern. Tackle it by writing functions. Or, at any rate, initially experiment using code-cells and loops, but once you know how to accomplish some task, turn it into a function. (Keep in mind that like the `jump_to()` function you'll have to pass the turtle you are drawing with into the function as an argument.) Things you might try:\n",
    "\n",
    "+ Drawing different sized squares\n",
    "+ Drawing polygons with different numbers of sides\n",
    "+ Drawing 'circles' (hint: they might not be circles exactly)\n",
    "+ Drawing stars\n",
    "+ Conducting other kinds of random walk (e.g. one that sticks to moves up, down, left, or right only)\n",
    "\n",
    "It doesn't really matter what you try to do, provided you are getting a feel for the process of developing small snippets of code and turning them into simple function.\n",
    "\n",
    "OK, here's a new turtle to work with!"
   ]
  },
  {
   "cell_type": "code",
   "execution_count": null,
   "id": "816e93d2",
   "metadata": {},
   "outputs": [],
   "source": [
    "t = jupyturtle.Turtle()"
   ]
  }
 ],
 "metadata": {
  "kernelspec": {
   "display_name": "intro-python-2",
   "language": "python",
   "name": "python3"
  },
  "language_info": {
   "codemirror_mode": {
    "name": "ipython",
    "version": 3
   },
   "file_extension": ".py",
   "mimetype": "text/x-python",
   "name": "python",
   "nbconvert_exporter": "python",
   "pygments_lexer": "ipython3",
   "version": "3.11.6"
  }
 },
 "nbformat": 4,
 "nbformat_minor": 5
}
