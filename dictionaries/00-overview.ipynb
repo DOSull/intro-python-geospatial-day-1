{
 "cells": [
  {
   "cell_type": "markdown",
   "metadata": {},
   "source": [
    "#### GISC 420 T1 2022\n",
    "# Dictionaries and an assignment using one (or more)"
   ]
  },
  {
   "cell_type": "markdown",
   "metadata": {},
   "source": [
    "There is one notebook accompanying reading from *Think Python*:\n",
    "+ [Chapter 11 on dictionaries](01-dictionaries.ipynb)"
   ]
  },
  {
   "cell_type": "markdown",
   "metadata": {},
   "source": [
    "There is a further notebook exploring these concepts in a spatial context, including another assignment:\n",
    "+ [Data translation using dictionaries](02-lab-assignment-decode-LUC.ipynb)"
   ]
  },
  {
   "cell_type": "markdown",
   "metadata": {},
   "source": [
    "## Videos\n",
    "Video of this week's material for review is available as follows:\n",
    "+ [Overview, introduction](http://southosullivan.com/gisc420/videos/dictionaries/gisc-425-week-04-01-intro.mp4) (2020 edition, 12:25 min)\n",
    "+ [Dictionaries part 1](http://southosullivan.com/gisc420/videos/dictionaries/gisc-425-week-04-02-dictionaries-part-1.mp4) (2020 edition, 16:17 min)\n",
    "+ [Dictionaries, part 2](http://southosullivan.com/gisc420/videos/dictionaries/gisc-425-week-04-03-dictionaries-part-2.mp4) (2020 edition, 9:31 min)\n",
    "+ [Assignment overview, part 1](http://southosullivan.com/gisc420/videos/dictionaries/gisc-425-week-04-04-assignment-overview-part-1.mp4) (2020 edition, 13:17 min)\n",
    "+ [Assignment overview, part 2](http://southosullivan.com/gisc420/videos/dictionaries/gisc-425-week-04-05-assignment-overview-part-2.mp4) (2020 edition, 13:33 min)"
   ]
  }
 ],
 "metadata": {
  "kernelspec": {
   "display_name": "Python 3 (ipykernel)",
   "language": "python",
   "name": "python3"
  },
  "language_info": {
   "codemirror_mode": {
    "name": "ipython",
    "version": 3
   },
   "file_extension": ".py",
   "mimetype": "text/x-python",
   "name": "python",
   "nbconvert_exporter": "python",
   "pygments_lexer": "ipython3",
   "version": "3.9.7"
  }
 },
 "nbformat": 4,
 "nbformat_minor": 2
}
