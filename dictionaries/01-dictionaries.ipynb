{
 "cells": [
  {
   "cell_type": "markdown",
   "metadata": {
    "tags": []
   },
   "source": [
    "#### GISC 420 T1 2022\n",
    "# Dictionaries\n",
    "This notebook is an overview of material in Chapter 11 of [Think Python](https://greenteapress.com/wp/think-python-2e/).\n",
    "\n",
    "The `dict` or *dictionary* type is a very useful kind of collection in Python, which stores *values* indexed by *keys*. It is a *mapping* from the keys to the values.\n",
    "\n",
    "An empty dictionary can be made in one of two ways either by invoking `dict()` or with empty 'curly' brackets `{}`"
   ]
  },
  {
   "cell_type": "code",
   "execution_count": null,
   "metadata": {
    "tags": []
   },
   "outputs": [],
   "source": [
    "eng_tereo = dict()\n",
    "tereo_eng = {}"
   ]
  },
  {
   "cell_type": "markdown",
   "metadata": {},
   "source": [
    "We can add items to an empty dictionary like this"
   ]
  },
  {
   "cell_type": "code",
   "execution_count": null,
   "metadata": {},
   "outputs": [],
   "source": [
    "eng_tereo['hello'] = 'kia ora'\n",
    "tereo_eng['kia ora'] = 'hello'"
   ]
  },
  {
   "cell_type": "markdown",
   "metadata": {},
   "source": [
    "The values in the square brackets here are the *keys*, while the values assigned are the *values* associated with those keys. We can retrieve them like this:"
   ]
  },
  {
   "cell_type": "code",
   "execution_count": null,
   "metadata": {},
   "outputs": [],
   "source": [
    "print(eng_tereo['hello'])"
   ]
  },
  {
   "cell_type": "markdown",
   "metadata": {
    "tags": []
   },
   "source": [
    "### A brief digression\n",
    "Add another word"
   ]
  },
  {
   "cell_type": "code",
   "execution_count": null,
   "metadata": {},
   "outputs": [],
   "source": [
    "eng_tereo['world'] = 'ao tūroa'"
   ]
  },
  {
   "cell_type": "markdown",
   "metadata": {},
   "source": [
    "Make a little function"
   ]
  },
  {
   "cell_type": "code",
   "execution_count": null,
   "metadata": {},
   "outputs": [],
   "source": [
    "def speak_tereo(words):\n",
    "    tereo_words = []\n",
    "    for word in words.split():\n",
    "        tereo_words.append(eng_tereo[word])\n",
    "    print(' '.join(tereo_words))"
   ]
  },
  {
   "cell_type": "markdown",
   "metadata": {},
   "source": [
    "And now we can do this"
   ]
  },
  {
   "cell_type": "code",
   "execution_count": null,
   "metadata": {},
   "outputs": [],
   "source": [
    "speak_tereo(\"hello world\")"
   ]
  },
  {
   "cell_type": "markdown",
   "metadata": {},
   "source": [
    "\\[Translation is obviously way more complicated than simple word substitution, but I couldn't resist...\\]"
   ]
  },
  {
   "cell_type": "markdown",
   "metadata": {
    "tags": []
   },
   "source": [
    "## OK... back in the room\n",
    "In dictionaries, keys and values can be almost anything, provided the keys are *immutable*. We've already seen that lists are mutable, so they can't be used as keys, but _tuples_ can. A tuple is like a list, but has round brackets:"
   ]
  },
  {
   "cell_type": "code",
   "execution_count": null,
   "metadata": {},
   "outputs": [],
   "source": [
    "values = (1, 2, 3, 4)\n",
    "values"
   ]
  },
  {
   "cell_type": "markdown",
   "metadata": {},
   "source": [
    "Strings are also fine as dictionary keys, as are integers and floats, although you have to be careful about floats, because two values that seem the same might not be _exactly_ the same. \n",
    "\n",
    "Regardless, the fact you can use more or less any value as a key in a dictionary makes dictionaries incredibly useful data structures."
   ]
  },
  {
   "cell_type": "markdown",
   "metadata": {},
   "source": [
    "### Some basics\n",
    "We make an empty dictionary with curly brackets, or with the `dict()` function. We can initialise it with some key-value pairs like this"
   ]
  },
  {
   "cell_type": "code",
   "execution_count": null,
   "metadata": {},
   "outputs": [],
   "source": [
    "my_dict = {\"one\": 1, \"two\": 2, \"three\": 3}"
   ]
  },
  {
   "cell_type": "markdown",
   "metadata": {},
   "source": [
    "We can initialise a dictionary from two lists or two tuples (or any pair of iterable objects of the same lengths) using the `zip()` function, as shown below."
   ]
  },
  {
   "cell_type": "code",
   "execution_count": null,
   "metadata": {},
   "outputs": [],
   "source": [
    "word = list(\"dictionary\")\n",
    "indexes = range(len(word))\n",
    "print(indexes, word)"
   ]
  },
  {
   "cell_type": "code",
   "execution_count": null,
   "metadata": {},
   "outputs": [],
   "source": [
    "letters = dict(zip(indexes, word))\n",
    "letters"
   ]
  },
  {
   "cell_type": "markdown",
   "metadata": {},
   "source": [
    "Slightly confusingly, iterating over a dictionary with a for loop will return the _keys_ (not the values):"
   ]
  },
  {
   "cell_type": "code",
   "execution_count": null,
   "metadata": {},
   "outputs": [],
   "source": [
    "for k in letters:\n",
    "    print(k)"
   ]
  },
  {
   "cell_type": "markdown",
   "metadata": {},
   "source": [
    "If you want the values, use `.values()`; if you want the key-value pairs use `.items()`:"
   ]
  },
  {
   "cell_type": "code",
   "execution_count": null,
   "metadata": {},
   "outputs": [],
   "source": [
    "for v in letters.values():\n",
    "    print(v)"
   ]
  },
  {
   "cell_type": "code",
   "execution_count": null,
   "metadata": {},
   "outputs": [],
   "source": [
    "for k, v in letters.items():\n",
    "    print(f\"value at key {k} is {v}\")"
   ]
  },
  {
   "cell_type": "markdown",
   "metadata": {},
   "source": [
    "### Inverting a dictionary (advanced)\n",
    "Sometimes you want to invert a dictionary so you can do lookups in the opposite direction. This can get tricky if there are duplicate values, as below:"
   ]
  },
  {
   "cell_type": "code",
   "execution_count": null,
   "metadata": {},
   "outputs": [],
   "source": [
    "letters_rev = {}\n",
    "for k, v in letters.items():\n",
    "    letters_rev[v] = k\n",
    "letters_rev"
   ]
  },
  {
   "cell_type": "markdown",
   "metadata": {},
   "source": [
    "Notice how the letter `i` which appears twice in the values appears only once in the inverted dictionary, because they second time it shows up overwrites the first time. There is a way to work around this with something called a `defaultdict` from the `collections` module. This special type of dictionary can have a default value specified. If we specify a list as the default type, then we can `append` to the list at each key position any duplicate entries."
   ]
  },
  {
   "cell_type": "code",
   "execution_count": null,
   "metadata": {},
   "outputs": [],
   "source": [
    "from collections import defaultdict\n",
    "letters_rev = defaultdict(list)\n",
    "for k, v in letters.items():\n",
    "    letters_rev[v].append(k)\n",
    "dict(letters_rev)"
   ]
  },
  {
   "cell_type": "markdown",
   "metadata": {},
   "source": [
    "## Using a dictionary to count things\n",
    "In addition to the 'translation' kind of functionality we've just seen they can be used to count things.\n",
    "\n",
    "For example, make a list of 1000 random numbers (although to save space, just look at the first 20 values). We can do this with the `random.randint()` function."
   ]
  },
  {
   "cell_type": "code",
   "execution_count": null,
   "metadata": {},
   "outputs": [],
   "source": [
    "import random\n",
    "numbers = []\n",
    "for i in range(10000):\n",
    "    numbers.append(random.randint(0, 50))\n",
    "numbers[:20]"
   ]
  },
  {
   "cell_type": "markdown",
   "metadata": {},
   "source": [
    "How could we count the number of occurrences of each possible value from 0 to 50 in this list? One way would be to make a new list, like this"
   ]
  },
  {
   "cell_type": "code",
   "execution_count": null,
   "metadata": {},
   "outputs": [],
   "source": [
    "counts = [0] * 51 # we need 51 because 0..50 is 51 values!\n",
    "counts[:20]"
   ]
  },
  {
   "cell_type": "markdown",
   "metadata": {},
   "source": [
    "Then we can go through the list of numbers like this"
   ]
  },
  {
   "cell_type": "code",
   "execution_count": null,
   "metadata": {},
   "outputs": [],
   "source": [
    "for n in numbers:\n",
    "    counts[n] = counts[n] + 1"
   ]
  },
  {
   "cell_type": "markdown",
   "metadata": {},
   "source": [
    "And now print it"
   ]
  },
  {
   "cell_type": "code",
   "execution_count": null,
   "metadata": {},
   "outputs": [],
   "source": [
    "# Note using an enumerate here\n",
    "for number, count in enumerate(counts):\n",
    "    print(f\"{count} {number}'s in the list\")"
   ]
  },
  {
   "cell_type": "markdown",
   "metadata": {},
   "source": [
    "That works OK, but what if the numbers were in a different range? Say they were not 0 to 50, but 100 to 150? Or 10001 to 10020? We would have to know in advance something about what is in the list of numbers to set up our list of counting bins appropriately and change the code accordingly. You can give it a try below"
   ]
  },
  {
   "cell_type": "code",
   "execution_count": null,
   "metadata": {},
   "outputs": [],
   "source": [
    "numbers = []\n",
    "for i in range(10000):\n",
    "    numbers.append(random.randint(10001, 10020))\n",
    "\n",
    "# write some code to assemble these counts into a list..."
   ]
  },
  {
   "cell_type": "markdown",
   "metadata": {},
   "source": [
    "Not so easy... and in fact... a dictionary does exactly what we need! \n",
    "\n",
    "With a dictionary it is straightforward."
   ]
  },
  {
   "cell_type": "code",
   "execution_count": null,
   "metadata": {},
   "outputs": [],
   "source": [
    "counts = {}\n",
    "for n in numbers:\n",
    "    if n in counts:\n",
    "        counts[n] = counts[n] + 1\n",
    "    else:\n",
    "        counts[n] = 1\n",
    "        \n",
    "counts"
   ]
  },
  {
   "cell_type": "markdown",
   "metadata": {},
   "source": [
    "The only issue with this approach is that the counts are not ordered, but that is easy to fix as we have done below with a `sorted` function call (and it might not even matter that much). "
   ]
  },
  {
   "cell_type": "code",
   "execution_count": null,
   "metadata": {},
   "outputs": [],
   "source": [
    "for number, count in sorted(counts.items()):\n",
    "    print(f\"{count} {number}'s in the list\")"
   ]
  },
  {
   "cell_type": "markdown",
   "metadata": {},
   "source": [
    "The key difference in using the dictionary, is that it only makes a counter for a particular number, *if it is needed*.\n",
    "\n",
    "Also... because a dictionary can use more or less anything as a key, we can use exactly the same code to count the letters in a word or sentence."
   ]
  },
  {
   "cell_type": "code",
   "execution_count": null,
   "metadata": {},
   "outputs": [],
   "source": [
    "def count_occurrences(sequence):\n",
    "    counts = {}\n",
    "    for s in sequence:\n",
    "        if s in counts:\n",
    "            counts[s] = counts[s] + 1\n",
    "        else:\n",
    "            counts[s] = 1\n",
    "    return counts\n",
    "\n",
    "count_occurrences(\"Dictionaries are cool\")"
   ]
  },
  {
   "cell_type": "markdown",
   "metadata": {},
   "source": [
    "In fact, the above function is so flexible it can be used to count numbers in a list as well! (Try it.)\n",
    "\n",
    "#### Slightly more advanced\n",
    "We can make this function even cleaner with a `defaultdict` with the default type set to be an integer."
   ]
  },
  {
   "cell_type": "code",
   "execution_count": null,
   "metadata": {},
   "outputs": [],
   "source": [
    "def count_occurences(sequence):\n",
    "    counts = defaultdict(int)\n",
    "    for s in sequence:\n",
    "        counts[s] = counts[s] + 1\n",
    "    return counts\n",
    "\n",
    "dice_rolls = []\n",
    "for i in range(1000):\n",
    "    dice_rolls.append(random.randint(1, 6))\n",
    "sorted(count_occurences(dice_rolls).items())"
   ]
  },
  {
   "cell_type": "markdown",
   "metadata": {
    "tags": []
   },
   "source": [
    "## The many uses of dictionaries\n",
    "We've already seen two uses for dictionaries: translations (mappings) and counting things. Dictionaries are a tremendously useful *data structure* that can be used in all kinds of situations. The chapter in _Think Python_ discusses _memoizing_ in some detail. It is worth taking a look at this closely. I have replicated the essentials below.\n",
    "\n",
    "First, we make a *recursive* function to calculate *Fibonacci* numbers. These are numbers in the series, 1, 1, 2, 3, 5, 8, 13, ... and so on, where the next number in the series each time is the sum of the previous two and we set things running starting with 1, 1."
   ]
  },
  {
   "cell_type": "code",
   "execution_count": null,
   "metadata": {},
   "outputs": [],
   "source": [
    "# Recursive function to calculate Fibonacci numbers\n",
    "def fib(n, debug = False):\n",
    "    # if input is 0, result is 0\n",
    "    if n == 0:\n",
    "        if debug: \n",
    "            print(\"getting fib(0)\")\n",
    "        return 0\n",
    "    # if input is 1 result is 1\n",
    "    if n == 1:\n",
    "        if debug: \n",
    "            print(\"getting fib(1)\")\n",
    "        return 1\n",
    "    # otherwise the result is the sum of \n",
    "    # the previous two entries\n",
    "    return fib(n - 1, debug) + fib(n - 2, debug)\n"
   ]
  },
  {
   "cell_type": "markdown",
   "metadata": {},
   "source": [
    "This works OK for fairly small values of `n`"
   ]
  },
  {
   "cell_type": "code",
   "execution_count": null,
   "metadata": {},
   "outputs": [],
   "source": [
    "fib(5, True)"
   ]
  },
  {
   "cell_type": "markdown",
   "metadata": {},
   "source": [
    "But there is a problem, which you can see because of the *debugging code* I put in to tell us every time we are calculating a result for `fib(0)` or `fib(1)`. The problem is that we are repeatedly getting results we already know.\n",
    "\n",
    "You can see how much of a problem this is by running the cell below. After you have run it, I recommend commenting the code below out, so you don't accidentally run it again..."
   ]
  },
  {
   "cell_type": "code",
   "execution_count": null,
   "metadata": {},
   "outputs": [],
   "source": [
    "fib(20)"
   ]
  },
  {
   "cell_type": "markdown",
   "metadata": {},
   "source": [
    "Using a dictionary, we can make this code *much more efficient* by storing intermediate values as we go and using those if we already know them.  Here's a better Fibonacci function."
   ]
  },
  {
   "cell_type": "code",
   "execution_count": null,
   "metadata": {},
   "outputs": [],
   "source": [
    "# Recursive function to calculate Fibonacci numbers\n",
    "# using a dictionary to remember known results\n",
    "\n",
    "known_fib = {0:0, 1:1}\n",
    "def fib2(n, debug = False):\n",
    "    if (n == 0 or n == 1) and debug: \n",
    "        print('getting fib(' + str(n) + ')')\n",
    "    if n in known_fib:\n",
    "        return known_fib[n]\n",
    "    # otherwise the result is the sum of \n",
    "    # the previous two entries\n",
    "    result = fib2(n - 1, debug) + fib2(n - 2, debug)\n",
    "    # and we store it in the dictionary of known results\n",
    "    known_fib[n] = result\n",
    "    return result\n",
    "\n",
    "fib2(500, debug = True)"
   ]
  },
  {
   "cell_type": "markdown",
   "metadata": {},
   "source": [
    "\\[You don't even want to think about how long the first version of this function would take to run for an input of 500... **don't** try it!\\]"
   ]
  },
  {
   "cell_type": "markdown",
   "metadata": {},
   "source": [
    "\n",
    "This is a good example of how we need to use program code **in conjunction with appropriate and well chosen data structures** to efficiently solve programming problems, and is something we will try to look at it in the next couple of weeks. An ability to do this is partly experience, but it is also something that can be learned. An alternative is to use well designed modules written by others to solve problems which is what gets us into APIs, another topic for the coming weeks."
   ]
  },
  {
   "cell_type": "markdown",
   "metadata": {
    "tags": []
   },
   "source": [
    "### By the way...\n",
    "It is worth knowing that there is a module (non-standard, so it has to be installed) for handling memoizing, called `cachetools`. You can find out more about it [here](https://pypi.org/project/cachetools/)."
   ]
  },
  {
   "cell_type": "code",
   "execution_count": null,
   "metadata": {
    "tags": []
   },
   "outputs": [],
   "source": [
    "pip install cachetools"
   ]
  },
  {
   "cell_type": "code",
   "execution_count": null,
   "metadata": {},
   "outputs": [],
   "source": [
    "from cachetools import cached\n",
    "\n",
    "@cached(cache={})\n",
    "def fib3(n):\n",
    "    return n if n < 2 else fib3(n - 1) + fib3(n - 2) # Note careful here to call fib3!\n",
    "\n",
    "fib3(500)"
   ]
  }
 ],
 "metadata": {
  "kernelspec": {
   "display_name": "Python 3 (ipykernel)",
   "language": "python",
   "name": "python3"
  },
  "language_info": {
   "codemirror_mode": {
    "name": "ipython",
    "version": 3
   },
   "file_extension": ".py",
   "mimetype": "text/x-python",
   "name": "python",
   "nbconvert_exporter": "python",
   "pygments_lexer": "ipython3",
   "version": "3.9.7"
  }
 },
 "nbformat": 4,
 "nbformat_minor": 4
}
