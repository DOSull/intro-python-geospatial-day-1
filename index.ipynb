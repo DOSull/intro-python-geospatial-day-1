{
 "cells": [
  {
   "cell_type": "markdown",
   "id": "305fc72f",
   "metadata": {},
   "source": [
    "# Python training for GIS analysts\n",
    "## Day 1 The core `python` language\n",
    "### Session 1 Language fundamentals\n",
    "\n",
    "| Time   | Topic |\n",
    "| ------:|:----- |\n",
    "| 09:00  | **Introductions** |\n",
    "| &nbsp; | Introduction to course environment |\n",
    "| 09:15  | **Basic concepts** |\n",
    "| &nbsp; | [Values, variables, types](01-values-variables-and-types.ipynb) |\n",
    "| &nbsp; | [Operators, expressions, statements](02-operators-expressions-and-statements.ipynb) |\n",
    "| 09:45  | [**Functions**](03-calling-and-writing-functions.ipynb) |\n",
    "| &nbsp; | Calling functions |\n",
    "| &nbsp; | Composing functions |\n",
    "| &nbsp; | Defining new functions |\n",
    "| &nbsp; | Local and global scope |\n",
    "| 10:30  | _BREAK_ |\n",
    "| 10:45  | [**Logic and flow control**](04-logic-and-flow-control.ipynb) |\n",
    "| &nbsp; | Boolean logic |\n",
    "| &nbsp; | `if`, `else`, `elif`, `match... case...` |\n",
    "| &nbsp; | `while` loops |\n",
    "| &nbsp; | Example program: [`hangman.py`](hangman.py) |\n",
    "| 11:30  | _LUNCH_ |\n",
    "\n",
    "### Session 2 Do it again! Sequences and iteration\n",
    "| Time   | Topic |\n",
    "| ------:|:----- |\n",
    "| 12:30  | **Sequences** |\n",
    "| &nbsp; | [`str`ings](05-strings.ipynb), [`list`s, and  `tuple`s](06-lists-and-tuples.ipynb) |\n",
    "| &nbsp; | Slicing and dicing sequences |\n",
    "| &nbsp; | _Mutable_ and _immutable_ types |\n",
    "| 1:00   | [**Iteration**](07-iteration.ipynb) |\n",
    "| &nbsp; | `for` loops |\n",
    "| 1:30   | [**Dictionaries**](08-dictionaries.ipynb) |\n",
    "| &nbsp; | Mapping keys to values |\n",
    "| &nbsp; | `.keys()`, `.values()`, `.items()`  |\n",
    "| &nbsp; | Counting stuff with a dictionary |\n",
    "| 2:15   | **Other collections** |\n",
    "| &nbsp; | [`set`, `defaultdict`, `namedtuple`](09-other-collections.ipynb) |\n",
    "| 2:30   | _BREAK_ |\n",
    "\n",
    "### Session 3 Putting `python` to work\n",
    "| Time   | Topic |\n",
    "| ------:|:----- |\n",
    "| 3:00   | **Some examples**, such as: |\n",
    "| &nbsp; | Converting files: [renaming](10-listing-renaming-moving-files.ipynb), [re-projecting](11-reprojecting-files.ipynb) |\n",
    "| &nbsp; | [Reading a file with `open ... as ...`](12-reading-files.ipynb) |\n",
    "| &nbsp; | _Any other topics as suggested by the group_ |\n",
    "| &nbsp; | [Turtle graphics](13-turtle-graphics.ipynb) |\n",
    "| 5:00   | _ENDS_"
   ]
  },
  {
   "cell_type": "markdown",
   "id": "aa003d37",
   "metadata": {},
   "source": []
  }
 ],
 "metadata": {
  "kernelspec": {
   "display_name": "intro-python-2",
   "language": "python",
   "name": "python3"
  },
  "language_info": {
   "codemirror_mode": {
    "name": "ipython",
    "version": 3
   },
   "file_extension": ".py",
   "mimetype": "text/x-python",
   "name": "python",
   "nbconvert_exporter": "python",
   "pygments_lexer": "ipython3",
   "version": "3.11.6"
  }
 },
 "nbformat": 4,
 "nbformat_minor": 5
}
