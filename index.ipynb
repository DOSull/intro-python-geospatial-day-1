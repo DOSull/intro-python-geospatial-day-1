{
 "cells": [
  {
   "cell_type": "markdown",
   "id": "305fc72f",
   "metadata": {},
   "source": [
    "# Python training for GIS analysts\n",
    "## Day 1 The core `python` language\n",
    "### Session 1 Language fundamentals\n",
    "\n",
    "| Time   | Topic |\n",
    "| ------:|:----- |\n",
    "| 09:00  | **Introductions** |\n",
    "| &nbsp; | Introduction to course environment (incl notebooks) |\n",
    "| 09:15  | **Basic concepts** |\n",
    "| &nbsp; | Values, variables, types |\n",
    "| &nbsp; | Operators, expressions, statements |\n",
    "| 09:45  | **Functions** |\n",
    "| &nbsp; | Calling functions |\n",
    "| &nbsp; | Writing functions with `def` |\n",
    "| 10:30  | _BREAK_ |\n",
    "| 10:45  | **Logic and flow control** |\n",
    "| &nbsp; | Boolean logic |\n",
    "| &nbsp; | `if`, `else`, `elif`, `match... case...` |\n",
    "| &nbsp; | `while` loops |\n",
    "| &nbsp; | Example programs: `hangman.py` and `leap_year.py` |\n",
    "| 11:30  | _LUNCH_ |\n",
    "\n",
    "### Session 2 Do it again! Sequences and iteration\n",
    "| Time   | Topic |\n",
    "| ------:|:----- |\n",
    "| 12:30  | **Sequences** |\n",
    "| &nbsp; | `list`s (_mutable_) |\n",
    "| &nbsp; | `string`s (and `tuple`s) (_immutable_) |\n",
    "| &nbsp; | Slicing and dicing sequences |\n",
    "| 1:00   | **Iteration** |\n",
    "| &nbsp; | `for` loops |\n",
    "| 1:30   | **Dictionaries** |\n",
    "| &nbsp; | Mapping keys to values |\n",
    "| &nbsp; | `.keys()`, `.values()`, `.items()`  |\n",
    "| &nbsp; | Counting stuff with a dictionary |\n",
    "| 2:15   | **Other collections** |\n",
    "| &nbsp; | `set`, `defaultdict`, `namedtuple` |\n",
    "| 2:30   | _BREAK_ |\n",
    "\n",
    "### Session 3 Putting `python` to work\n",
    "| Time   | Topic |\n",
    "| ------:|:----- |\n",
    "| 3:00   | **Some examples**, such as: |\n",
    "| &nbsp; | Converting files: renaming, re-projecting |\n",
    "| &nbsp; | Reading a file with `open ... as ...` |\n",
    "| &nbsp; | Debugging code |\n",
    "| &nbsp; | _Any other topics as suggested by the group_ |\n",
    "| &nbsp; | [Turtle graphics challenges] |\n",
    "| 5:00   | _ENDS_"
   ]
  },
  {
   "cell_type": "markdown",
   "id": "aa003d37",
   "metadata": {},
   "source": []
  }
 ],
 "metadata": {
  "kernelspec": {
   "display_name": "intro-python-day-1",
   "language": "python",
   "name": "python3"
  },
  "language_info": {
   "codemirror_mode": {
    "name": "ipython",
    "version": 3
   },
   "file_extension": ".py",
   "mimetype": "text/x-python",
   "name": "python",
   "nbconvert_exporter": "python",
   "pygments_lexer": "ipython3",
   "version": "3.12.9"
  }
 },
 "nbformat": 4,
 "nbformat_minor": 5
}
