{
 "cells": [
  {
   "cell_type": "markdown",
   "metadata": {},
   "source": [
    "#### GISC 420 T1 2022\n",
    "# Iteration\n",
    "This notebook develops material presented in Chapter 7 of [Think Python](https://greenteapress.com/wp/think-python-2e/).\n",
    "\n",
    "Iteration is a critical capability of programming languages. Much of the reason we use computers is that they can uncomplainingly and reliably do repetitive data processing tasks accurately and quickly. Iteration in the form of *loop* structures are how we make this happen."
   ]
  },
  {
   "cell_type": "markdown",
   "metadata": {},
   "source": [
    "## Reassignment of values to variables\n",
    "We already know that you can assign the result of an expression to a variable. For example"
   ]
  },
  {
   "cell_type": "code",
   "execution_count": null,
   "metadata": {},
   "outputs": [],
   "source": [
    "y = 5\n",
    "print(y)\n",
    "\n",
    "x = y + 1\n",
    "print(x)"
   ]
  },
  {
   "cell_type": "markdown",
   "metadata": {},
   "source": [
    "Less obvious is that you can reassign the value of variable to a new value, *based on itself*"
   ]
  },
  {
   "cell_type": "code",
   "execution_count": null,
   "metadata": {},
   "outputs": [],
   "source": [
    "x = x + 1\n",
    "print(x)"
   ]
  },
  {
   "cell_type": "markdown",
   "metadata": {},
   "source": [
    "For the Python interpreter `x = x + 1` isn't fundamentally different than `x = y + 1`. The result of the expression on the right of the assignment operator `=` is determined, and is assigned to the variable on the left. The difference is that `x = x + 1` updates the value stored in `x`, erasing the old value.\n",
    "\n",
    "It is important to realise that a statement like `z = z + 1` can't magic `z` into existence of it does not already exist. Try it"
   ]
  },
  {
   "cell_type": "code",
   "execution_count": null,
   "metadata": {},
   "outputs": [],
   "source": [
    "# Try z = z + 1 in this cell and see what happens"
   ]
  },
  {
   "cell_type": "markdown",
   "metadata": {},
   "source": [
    "This means that a variable has to be assigned an initial value, before we can start updating in this way."
   ]
  },
  {
   "cell_type": "code",
   "execution_count": null,
   "metadata": {},
   "outputs": [],
   "source": [
    "zz = 0\n",
    "zz = zz + 1\n",
    "print(zz)\n",
    "zz = zz + 1\n",
    "print(zz)"
   ]
  },
  {
   "cell_type": "markdown",
   "metadata": {},
   "source": [
    "This idea forms the basis of the simplest style of iteration in Python."
   ]
  },
  {
   "cell_type": "markdown",
   "metadata": {},
   "source": [
    "## The `while` loop\n",
    "The `while <boolean expression>` construct introduces a block of code that will be repeatedly executed for as long as the boolean expression evaluates as `True`. For example"
   ]
  },
  {
   "cell_type": "code",
   "execution_count": null,
   "metadata": {},
   "outputs": [],
   "source": [
    "x = 0\n",
    "while x < 10:\n",
    "    print(x)\n",
    "    x = x + 1"
   ]
  },
  {
   "cell_type": "markdown",
   "metadata": {},
   "source": [
    "This works as follows. First `x` is set to `0`. The `while` statement includes a condition `x < 10`, which is initially `True`. Because the condition is fulfilled, the computer executes the block inside the `while` construct, `print(x)`, and then updates `x` to `x + 1` i.e., `1`. Then it loops back to the top and test the `x < 10` condition again. Since `x` is still less than `10`, the loop is executed again, this time increasing `x` to `2`. This process repeats until `x` has been updated to equal `10` at which point the condition is no longer true and execution of the loop ends.\n",
    "\n",
    "Make sure you follow this logic before continuing.\n",
    "\n",
    "Other kinds of update are possible, for example"
   ]
  },
  {
   "cell_type": "code",
   "execution_count": null,
   "metadata": {},
   "outputs": [],
   "source": [
    "while x >= 0:\n",
    "    print(x)\n",
    "    x = x - 1"
   ]
  },
  {
   "cell_type": "markdown",
   "metadata": {},
   "source": [
    "We can also include an alternative action for the loop iteration when execution ends:"
   ]
  },
  {
   "cell_type": "code",
   "execution_count": null,
   "metadata": {},
   "outputs": [],
   "source": [
    "x = 10\n",
    "while x >= 0:\n",
    "    print(x)\n",
    "    x = x - 1\n",
    "else:\n",
    "    print('Blast off!')"
   ]
  },
  {
   "cell_type": "markdown",
   "metadata": {},
   "source": [
    "Again, make sure you understand what this is doing."
   ]
  },
  {
   "cell_type": "markdown",
   "metadata": {},
   "source": [
    "## DANGER! DANGER! DANGER!\n",
    "A serious issue that can arise in any programming language is a loop that has an end condition that is **never triggered**.  The cell below **won't run** because I have tagged it as 'Raw' which means it is not read as code.  Examine it closely and think about what would happen, if we converted it to a code cell and ran it."
   ]
  },
  {
   "cell_type": "raw",
   "metadata": {},
   "source": [
    "## Don't run this cell!\n",
    "x = 0\n",
    "while x >= 0:\n",
    "    print(x)\n",
    "    x = x + 1"
   ]
  },
  {
   "cell_type": "markdown",
   "metadata": {},
   "source": [
    "*Infinite loops* like this can be a source of relatively serious bugs, even in simple programs."
   ]
  },
  {
   "cell_type": "markdown",
   "metadata": {},
   "source": [
    "## The `break` statement\n",
    "Another way to exit a `while` loop is the `break` statement. This is useful when you need to keep iterating until some condition is fulfilled that depends on the results of the processing happening inside the loop itself. The examples given in Sections 7.4 and 7.5 of the book are useful. Another example might be reading the contents of a file, which could look like the below:"
   ]
  },
  {
   "cell_type": "raw",
   "metadata": {},
   "source": [
    "while True:\n",
    "    read line from file\n",
    "    if line is <end of file>:\n",
    "        break\n",
    "    do things with the line"
   ]
  },
  {
   "cell_type": "markdown",
   "metadata": {},
   "source": [
    "This code would keep reading lines from a file (we will see how to do this later) until it encounters a line that is the end of the file, when it will `break` out of the loop."
   ]
  },
  {
   "cell_type": "markdown",
   "metadata": {},
   "source": [
    "## The `for` loop\n",
    "The other construct for loops in Python is the `for` statement. This causes iteration over every item in a sequence."
   ]
  },
  {
   "cell_type": "code",
   "execution_count": null,
   "metadata": {},
   "outputs": [],
   "source": [
    "for i in range(10):\n",
    "    print(i)"
   ]
  },
  {
   "cell_type": "code",
   "execution_count": null,
   "metadata": {},
   "outputs": [],
   "source": [
    "for thing in ['a', 'b', [1, 2], 'item']:\n",
    "    print(thing)"
   ]
  },
  {
   "cell_type": "markdown",
   "metadata": {},
   "source": [
    "The sequence can be literally a sequence such as is returned by `range()` or it can be `list` or `string` or other collection that can be indexed. An important concept here is the possibility of *nested* loops"
   ]
  },
  {
   "cell_type": "code",
   "execution_count": null,
   "metadata": {},
   "outputs": [],
   "source": [
    "for i in range(1, 5):\n",
    "    for j in range(1, 5):\n",
    "        print(str(i) + ' times ' + str(j) + ' makes ' + str(i * j))"
   ]
  },
  {
   "cell_type": "markdown",
   "metadata": {},
   "source": [
    "Sequences are therefore of interest, so we look at those next, in two different flavours [`string`s](02-strings.ipynb) and [`list`s](03-lists.ipynb)"
   ]
  },
  {
   "cell_type": "markdown",
   "metadata": {},
   "source": [
    "If you want the index of an item and the item from a collection then use `enumerate`:"
   ]
  },
  {
   "cell_type": "code",
   "execution_count": null,
   "metadata": {},
   "outputs": [],
   "source": [
    "for i, letter in enumerate(\"supercalifragilisticexpialidocious\"):\n",
    "    print(f\"Letter {i + 1} is {letter}\")"
   ]
  },
  {
   "cell_type": "code",
   "execution_count": null,
   "metadata": {},
   "outputs": [],
   "source": []
  }
 ],
 "metadata": {
  "kernelspec": {
   "display_name": "Python 3 (ipykernel)",
   "language": "python",
   "name": "python3"
  },
  "language_info": {
   "codemirror_mode": {
    "name": "ipython",
    "version": 3
   },
   "file_extension": ".py",
   "mimetype": "text/x-python",
   "name": "python",
   "nbconvert_exporter": "python",
   "pygments_lexer": "ipython3",
   "version": "3.9.7"
  }
 },
 "nbformat": 4,
 "nbformat_minor": 4
}
