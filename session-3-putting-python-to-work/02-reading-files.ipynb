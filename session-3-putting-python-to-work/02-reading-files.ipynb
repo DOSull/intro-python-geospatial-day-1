{
 "cells": [
  {
   "cell_type": "code",
   "execution_count": null,
   "id": "de0aa76c",
   "metadata": {},
   "outputs": [],
   "source": [
    "import os\n",
    "from collections import namedtuple"
   ]
  },
  {
   "cell_type": "markdown",
   "id": "beaaa57d",
   "metadata": {},
   "source": [
    "# Reading a file\n",
    "Most of the time we work with modules such as `pandas` or `geopandas` to deal with data files. However, sometimes it is useful to be able to directly open data files and work with them at a low level. For this, we use the `open` method, in combination with a `with` clause. "
   ]
  },
  {
   "cell_type": "code",
   "execution_count": null,
   "id": "70adfda3",
   "metadata": {},
   "outputs": [],
   "source": [
    "data = []\n",
    "fname = [f for f in os.listdir() if f.endswith(\".csv\")][0]\n",
    "\n",
    "with open(fname) as f:\n",
    "    data = [x.strip() for x in f.readlines()]\n",
    "\n",
    "data[:10]"
   ]
  },
  {
   "cell_type": "markdown",
   "id": "885f53f0",
   "metadata": {},
   "source": [
    "So we can set up a `namedtuple` as a receiver for each row of data in the file, and then populate each one from a row in the data one row at a time. "
   ]
  },
  {
   "cell_type": "code",
   "execution_count": null,
   "id": "0f15ee89",
   "metadata": {},
   "outputs": [],
   "source": [
    "Record = namedtuple(\"Record\", [\"x\", \"y\", \"pop\"])\n",
    "\n",
    "records = []\n",
    "for row in data[1:]:\n",
    "    x, y, pop = row.split(\",\")\n",
    "    records.append(Record(x = int(x), y = int(y), pop = float(pop)))\n",
    "\n",
    "records[:10]"
   ]
  },
  {
   "cell_type": "markdown",
   "id": "00d9dfaa",
   "metadata": {},
   "source": [
    "Alternatively, we could set up a bunch of lists to receive the data."
   ]
  },
  {
   "cell_type": "code",
   "execution_count": null,
   "id": "8b388c1f",
   "metadata": {},
   "outputs": [],
   "source": [
    "x, y, pop = [], [], []\n",
    "\n",
    "for row in data[1:]:\n",
    "    data_items = row.split(\",\")\n",
    "    x.append(int(data_items[0]))\n",
    "    y.append(int(data_items[1]))\n",
    "    pop.append(float(data_items[2]))\n",
    "    \n",
    "x[:10], y[:10], pop[:10]"
   ]
  },
  {
   "cell_type": "markdown",
   "id": "e5f0a759",
   "metadata": {},
   "source": [
    "This is all very do-able. But... I'm sure you'll be glad you don't have to work with data files in this way! That's what `pandas` is for, and it's what we'll be spending much of the next session on!"
   ]
  }
 ],
 "metadata": {
  "kernelspec": {
   "display_name": "intro-python-day-1",
   "language": "python",
   "name": "python3"
  },
  "language_info": {
   "codemirror_mode": {
    "name": "ipython",
    "version": 3
   },
   "file_extension": ".py",
   "mimetype": "text/x-python",
   "name": "python",
   "nbconvert_exporter": "python",
   "pygments_lexer": "ipython3",
   "version": "3.12.9"
  }
 },
 "nbformat": 4,
 "nbformat_minor": 5
}
