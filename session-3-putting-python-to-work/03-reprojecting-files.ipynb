{
 "cells": [
  {
   "cell_type": "markdown",
   "id": "b40f18fe",
   "metadata": {},
   "source": [
    "# Reprojecting files\n",
    "It's not difficult to use Python to navigate to a folder, read all the files of a given type and rename them consistently, or for that matter to reproject them to a preferred coordinate reference system. The last task involves using `geopandas` which we'll look at in more detail tomorrow, but this notebook will give a taste."
   ]
  },
  {
   "cell_type": "code",
   "execution_count": 3,
   "id": "de0aa76c",
   "metadata": {},
   "outputs": [],
   "source": [
    "import os\n",
    "import geopandas as gpd"
   ]
  },
  {
   "cell_type": "markdown",
   "id": "2c8c4d67",
   "metadata": {},
   "source": [
    "We can get the current directory and a directory listing."
   ]
  },
  {
   "cell_type": "code",
   "execution_count": 4,
   "id": "209bb564",
   "metadata": {},
   "outputs": [
    {
     "data": {
      "text/plain": [
       "('/Users/david/Documents/work/training/intro-python-geospatial-day-1/session-3-putting-python-to-work',\n",
       " ['.DS_Store',\n",
       "  '01-listing-renaming-reprojecting-files.ipynb',\n",
       "  'wellington_gridded_population.txt',\n",
       "  'wellington-gridded-population.csv',\n",
       "  '02-reading-files.ipynb',\n",
       "  '03-reprojecting-files.ipynb'])"
      ]
     },
     "execution_count": 4,
     "metadata": {},
     "output_type": "execute_result"
    }
   ],
   "source": [
    "os.getcwd(), os.listdir()"
   ]
  },
  {
   "cell_type": "markdown",
   "id": "758a9359",
   "metadata": {},
   "source": [
    "Say we wanted to rename all the GeoPackage GPKG files to so that they are in the New Zealand Transverse Mercator projection."
   ]
  },
  {
   "cell_type": "code",
   "execution_count": null,
   "id": "72320c09",
   "metadata": {},
   "outputs": [],
   "source": [
    "for item in os.listdir():\n",
    "    if item.endswith(\".gpkg\"):\n",
    "        basename, extension = os.path.splitext(item)\n",
    "        new_name = f\"{basename}-2193{extension}\"\n",
    "        print(f\"Reprojecting {item} and saving to {new_name}\")\n",
    "        gpd.read_file(item).to_crs(2193).to_file(new_name)"
   ]
  }
 ],
 "metadata": {
  "kernelspec": {
   "display_name": "intro-python-day-1",
   "language": "python",
   "name": "python3"
  },
  "language_info": {
   "codemirror_mode": {
    "name": "ipython",
    "version": 3
   },
   "file_extension": ".py",
   "mimetype": "text/x-python",
   "name": "python",
   "nbconvert_exporter": "python",
   "pygments_lexer": "ipython3",
   "version": "3.12.9"
  }
 },
 "nbformat": 4,
 "nbformat_minor": 5
}
